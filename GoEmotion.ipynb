{
  "nbformat": 4,
  "nbformat_minor": 0,
  "metadata": {
    "colab": {
      "provenance": [],
      "toc_visible": true,
      "authorship_tag": "ABX9TyN8XhiKTS3LyIu6ZsbTblGr",
      "include_colab_link": true
    },
    "kernelspec": {
      "name": "python3",
      "display_name": "Python 3"
    },
    "language_info": {
      "name": "python"
    },
    "widgets": {
      "application/vnd.jupyter.widget-state+json": {
        "eb769aa45a0b4e25a242d26f56d85e1d": {
          "model_module": "@jupyter-widgets/controls",
          "model_name": "HBoxModel",
          "model_module_version": "1.5.0",
          "state": {
            "_dom_classes": [],
            "_model_module": "@jupyter-widgets/controls",
            "_model_module_version": "1.5.0",
            "_model_name": "HBoxModel",
            "_view_count": null,
            "_view_module": "@jupyter-widgets/controls",
            "_view_module_version": "1.5.0",
            "_view_name": "HBoxView",
            "box_style": "",
            "children": [
              "IPY_MODEL_ddaff6736a074758ade172768a08930c",
              "IPY_MODEL_cfe066f4099c4042a97649e5103e149a",
              "IPY_MODEL_fefa90cb0e3642fc95f23065c2fac78a"
            ],
            "layout": "IPY_MODEL_d1567ce3afce4c958ad1b7735ba02ac8"
          }
        },
        "ddaff6736a074758ade172768a08930c": {
          "model_module": "@jupyter-widgets/controls",
          "model_name": "HTMLModel",
          "model_module_version": "1.5.0",
          "state": {
            "_dom_classes": [],
            "_model_module": "@jupyter-widgets/controls",
            "_model_module_version": "1.5.0",
            "_model_name": "HTMLModel",
            "_view_count": null,
            "_view_module": "@jupyter-widgets/controls",
            "_view_module_version": "1.5.0",
            "_view_name": "HTMLView",
            "description": "",
            "description_tooltip": null,
            "layout": "IPY_MODEL_36e2f75f78d14025b3b4d3edf81fc71a",
            "placeholder": "​",
            "style": "IPY_MODEL_c5184a6dbfed43e988f8533b014a3b99",
            "value": "100%"
          }
        },
        "cfe066f4099c4042a97649e5103e149a": {
          "model_module": "@jupyter-widgets/controls",
          "model_name": "FloatProgressModel",
          "model_module_version": "1.5.0",
          "state": {
            "_dom_classes": [],
            "_model_module": "@jupyter-widgets/controls",
            "_model_module_version": "1.5.0",
            "_model_name": "FloatProgressModel",
            "_view_count": null,
            "_view_module": "@jupyter-widgets/controls",
            "_view_module_version": "1.5.0",
            "_view_name": "ProgressView",
            "bar_style": "success",
            "description": "",
            "description_tooltip": null,
            "layout": "IPY_MODEL_b757a023a27941b5bf5210ecd1f132b9",
            "max": 1,
            "min": 0,
            "orientation": "horizontal",
            "style": "IPY_MODEL_90b8faa5008e42deaaae83869973257d",
            "value": 1
          }
        },
        "fefa90cb0e3642fc95f23065c2fac78a": {
          "model_module": "@jupyter-widgets/controls",
          "model_name": "HTMLModel",
          "model_module_version": "1.5.0",
          "state": {
            "_dom_classes": [],
            "_model_module": "@jupyter-widgets/controls",
            "_model_module_version": "1.5.0",
            "_model_name": "HTMLModel",
            "_view_count": null,
            "_view_module": "@jupyter-widgets/controls",
            "_view_module_version": "1.5.0",
            "_view_name": "HTMLView",
            "description": "",
            "description_tooltip": null,
            "layout": "IPY_MODEL_9efedd9205af43548b2d7a2e859f9feb",
            "placeholder": "​",
            "style": "IPY_MODEL_690a74203f44416489153949c39d19b0",
            "value": " 1/1 [00:00&lt;00:00, 22.23it/s]"
          }
        },
        "d1567ce3afce4c958ad1b7735ba02ac8": {
          "model_module": "@jupyter-widgets/base",
          "model_name": "LayoutModel",
          "model_module_version": "1.2.0",
          "state": {
            "_model_module": "@jupyter-widgets/base",
            "_model_module_version": "1.2.0",
            "_model_name": "LayoutModel",
            "_view_count": null,
            "_view_module": "@jupyter-widgets/base",
            "_view_module_version": "1.2.0",
            "_view_name": "LayoutView",
            "align_content": null,
            "align_items": null,
            "align_self": null,
            "border": null,
            "bottom": null,
            "display": null,
            "flex": null,
            "flex_flow": null,
            "grid_area": null,
            "grid_auto_columns": null,
            "grid_auto_flow": null,
            "grid_auto_rows": null,
            "grid_column": null,
            "grid_gap": null,
            "grid_row": null,
            "grid_template_areas": null,
            "grid_template_columns": null,
            "grid_template_rows": null,
            "height": null,
            "justify_content": null,
            "justify_items": null,
            "left": null,
            "margin": null,
            "max_height": null,
            "max_width": null,
            "min_height": null,
            "min_width": null,
            "object_fit": null,
            "object_position": null,
            "order": null,
            "overflow": null,
            "overflow_x": null,
            "overflow_y": null,
            "padding": null,
            "right": null,
            "top": null,
            "visibility": null,
            "width": null
          }
        },
        "36e2f75f78d14025b3b4d3edf81fc71a": {
          "model_module": "@jupyter-widgets/base",
          "model_name": "LayoutModel",
          "model_module_version": "1.2.0",
          "state": {
            "_model_module": "@jupyter-widgets/base",
            "_model_module_version": "1.2.0",
            "_model_name": "LayoutModel",
            "_view_count": null,
            "_view_module": "@jupyter-widgets/base",
            "_view_module_version": "1.2.0",
            "_view_name": "LayoutView",
            "align_content": null,
            "align_items": null,
            "align_self": null,
            "border": null,
            "bottom": null,
            "display": null,
            "flex": null,
            "flex_flow": null,
            "grid_area": null,
            "grid_auto_columns": null,
            "grid_auto_flow": null,
            "grid_auto_rows": null,
            "grid_column": null,
            "grid_gap": null,
            "grid_row": null,
            "grid_template_areas": null,
            "grid_template_columns": null,
            "grid_template_rows": null,
            "height": null,
            "justify_content": null,
            "justify_items": null,
            "left": null,
            "margin": null,
            "max_height": null,
            "max_width": null,
            "min_height": null,
            "min_width": null,
            "object_fit": null,
            "object_position": null,
            "order": null,
            "overflow": null,
            "overflow_x": null,
            "overflow_y": null,
            "padding": null,
            "right": null,
            "top": null,
            "visibility": null,
            "width": null
          }
        },
        "c5184a6dbfed43e988f8533b014a3b99": {
          "model_module": "@jupyter-widgets/controls",
          "model_name": "DescriptionStyleModel",
          "model_module_version": "1.5.0",
          "state": {
            "_model_module": "@jupyter-widgets/controls",
            "_model_module_version": "1.5.0",
            "_model_name": "DescriptionStyleModel",
            "_view_count": null,
            "_view_module": "@jupyter-widgets/base",
            "_view_module_version": "1.2.0",
            "_view_name": "StyleView",
            "description_width": ""
          }
        },
        "b757a023a27941b5bf5210ecd1f132b9": {
          "model_module": "@jupyter-widgets/base",
          "model_name": "LayoutModel",
          "model_module_version": "1.2.0",
          "state": {
            "_model_module": "@jupyter-widgets/base",
            "_model_module_version": "1.2.0",
            "_model_name": "LayoutModel",
            "_view_count": null,
            "_view_module": "@jupyter-widgets/base",
            "_view_module_version": "1.2.0",
            "_view_name": "LayoutView",
            "align_content": null,
            "align_items": null,
            "align_self": null,
            "border": null,
            "bottom": null,
            "display": null,
            "flex": null,
            "flex_flow": null,
            "grid_area": null,
            "grid_auto_columns": null,
            "grid_auto_flow": null,
            "grid_auto_rows": null,
            "grid_column": null,
            "grid_gap": null,
            "grid_row": null,
            "grid_template_areas": null,
            "grid_template_columns": null,
            "grid_template_rows": null,
            "height": null,
            "justify_content": null,
            "justify_items": null,
            "left": null,
            "margin": null,
            "max_height": null,
            "max_width": null,
            "min_height": null,
            "min_width": null,
            "object_fit": null,
            "object_position": null,
            "order": null,
            "overflow": null,
            "overflow_x": null,
            "overflow_y": null,
            "padding": null,
            "right": null,
            "top": null,
            "visibility": null,
            "width": null
          }
        },
        "90b8faa5008e42deaaae83869973257d": {
          "model_module": "@jupyter-widgets/controls",
          "model_name": "ProgressStyleModel",
          "model_module_version": "1.5.0",
          "state": {
            "_model_module": "@jupyter-widgets/controls",
            "_model_module_version": "1.5.0",
            "_model_name": "ProgressStyleModel",
            "_view_count": null,
            "_view_module": "@jupyter-widgets/base",
            "_view_module_version": "1.2.0",
            "_view_name": "StyleView",
            "bar_color": null,
            "description_width": ""
          }
        },
        "9efedd9205af43548b2d7a2e859f9feb": {
          "model_module": "@jupyter-widgets/base",
          "model_name": "LayoutModel",
          "model_module_version": "1.2.0",
          "state": {
            "_model_module": "@jupyter-widgets/base",
            "_model_module_version": "1.2.0",
            "_model_name": "LayoutModel",
            "_view_count": null,
            "_view_module": "@jupyter-widgets/base",
            "_view_module_version": "1.2.0",
            "_view_name": "LayoutView",
            "align_content": null,
            "align_items": null,
            "align_self": null,
            "border": null,
            "bottom": null,
            "display": null,
            "flex": null,
            "flex_flow": null,
            "grid_area": null,
            "grid_auto_columns": null,
            "grid_auto_flow": null,
            "grid_auto_rows": null,
            "grid_column": null,
            "grid_gap": null,
            "grid_row": null,
            "grid_template_areas": null,
            "grid_template_columns": null,
            "grid_template_rows": null,
            "height": null,
            "justify_content": null,
            "justify_items": null,
            "left": null,
            "margin": null,
            "max_height": null,
            "max_width": null,
            "min_height": null,
            "min_width": null,
            "object_fit": null,
            "object_position": null,
            "order": null,
            "overflow": null,
            "overflow_x": null,
            "overflow_y": null,
            "padding": null,
            "right": null,
            "top": null,
            "visibility": null,
            "width": null
          }
        },
        "690a74203f44416489153949c39d19b0": {
          "model_module": "@jupyter-widgets/controls",
          "model_name": "DescriptionStyleModel",
          "model_module_version": "1.5.0",
          "state": {
            "_model_module": "@jupyter-widgets/controls",
            "_model_module_version": "1.5.0",
            "_model_name": "DescriptionStyleModel",
            "_view_count": null,
            "_view_module": "@jupyter-widgets/base",
            "_view_module_version": "1.2.0",
            "_view_name": "StyleView",
            "description_width": ""
          }
        }
      }
    },
    "accelerator": "GPU",
    "gpuClass": "standard"
  },
  "cells": [
    {
      "cell_type": "markdown",
      "metadata": {
        "id": "view-in-github",
        "colab_type": "text"
      },
      "source": [
        "<a href=\"https://colab.research.google.com/github/tainakerriou/MachineLearning/blob/main/GoEmotion.ipynb\" target=\"_parent\"><img src=\"https://colab.research.google.com/assets/colab-badge.svg\" alt=\"Open In Colab\"/></a>"
      ]
    },
    {
      "cell_type": "markdown",
      "source": [
        "### IMPORT THE DATA SET AND THE PACKAGE\n"
      ],
      "metadata": {
        "id": "vsWRlh5MdEAi"
      }
    },
    {
      "cell_type": "code",
      "execution_count": 1,
      "metadata": {
        "colab": {
          "base_uri": "https://localhost:8080/"
        },
        "id": "CIs6IVWTYhta",
        "outputId": "827c1a38-d810-4309-cbbe-41ae0605255d"
      },
      "outputs": [
        {
          "output_type": "stream",
          "name": "stdout",
          "text": [
            "Looking in indexes: https://pypi.org/simple, https://us-python.pkg.dev/colab-wheels/public/simple/\n",
            "Requirement already satisfied: datasets in /usr/local/lib/python3.8/dist-packages (2.7.1)\n",
            "Requirement already satisfied: fsspec[http]>=2021.11.1 in /usr/local/lib/python3.8/dist-packages (from datasets) (2022.11.0)\n",
            "Requirement already satisfied: packaging in /usr/local/lib/python3.8/dist-packages (from datasets) (21.3)\n",
            "Requirement already satisfied: pyyaml>=5.1 in /usr/local/lib/python3.8/dist-packages (from datasets) (6.0)\n",
            "Requirement already satisfied: dill<0.3.7 in /usr/local/lib/python3.8/dist-packages (from datasets) (0.3.6)\n",
            "Requirement already satisfied: xxhash in /usr/local/lib/python3.8/dist-packages (from datasets) (3.1.0)\n",
            "Requirement already satisfied: pyarrow>=6.0.0 in /usr/local/lib/python3.8/dist-packages (from datasets) (9.0.0)\n",
            "Requirement already satisfied: multiprocess in /usr/local/lib/python3.8/dist-packages (from datasets) (0.70.14)\n",
            "Requirement already satisfied: requests>=2.19.0 in /usr/local/lib/python3.8/dist-packages (from datasets) (2.23.0)\n",
            "Requirement already satisfied: huggingface-hub<1.0.0,>=0.2.0 in /usr/local/lib/python3.8/dist-packages (from datasets) (0.11.1)\n",
            "Requirement already satisfied: aiohttp in /usr/local/lib/python3.8/dist-packages (from datasets) (3.8.3)\n",
            "Requirement already satisfied: numpy>=1.17 in /usr/local/lib/python3.8/dist-packages (from datasets) (1.21.6)\n",
            "Requirement already satisfied: pandas in /usr/local/lib/python3.8/dist-packages (from datasets) (1.3.5)\n",
            "Requirement already satisfied: responses<0.19 in /usr/local/lib/python3.8/dist-packages (from datasets) (0.18.0)\n",
            "Requirement already satisfied: tqdm>=4.62.1 in /usr/local/lib/python3.8/dist-packages (from datasets) (4.64.1)\n",
            "Requirement already satisfied: multidict<7.0,>=4.5 in /usr/local/lib/python3.8/dist-packages (from aiohttp->datasets) (6.0.3)\n",
            "Requirement already satisfied: yarl<2.0,>=1.0 in /usr/local/lib/python3.8/dist-packages (from aiohttp->datasets) (1.8.2)\n",
            "Requirement already satisfied: aiosignal>=1.1.2 in /usr/local/lib/python3.8/dist-packages (from aiohttp->datasets) (1.3.1)\n",
            "Requirement already satisfied: frozenlist>=1.1.1 in /usr/local/lib/python3.8/dist-packages (from aiohttp->datasets) (1.3.3)\n",
            "Requirement already satisfied: async-timeout<5.0,>=4.0.0a3 in /usr/local/lib/python3.8/dist-packages (from aiohttp->datasets) (4.0.2)\n",
            "Requirement already satisfied: charset-normalizer<3.0,>=2.0 in /usr/local/lib/python3.8/dist-packages (from aiohttp->datasets) (2.1.1)\n",
            "Requirement already satisfied: attrs>=17.3.0 in /usr/local/lib/python3.8/dist-packages (from aiohttp->datasets) (22.1.0)\n",
            "Requirement already satisfied: filelock in /usr/local/lib/python3.8/dist-packages (from huggingface-hub<1.0.0,>=0.2.0->datasets) (3.8.2)\n",
            "Requirement already satisfied: typing-extensions>=3.7.4.3 in /usr/local/lib/python3.8/dist-packages (from huggingface-hub<1.0.0,>=0.2.0->datasets) (4.4.0)\n",
            "Requirement already satisfied: pyparsing!=3.0.5,>=2.0.2 in /usr/local/lib/python3.8/dist-packages (from packaging->datasets) (3.0.9)\n",
            "Requirement already satisfied: certifi>=2017.4.17 in /usr/local/lib/python3.8/dist-packages (from requests>=2.19.0->datasets) (2022.12.7)\n",
            "Requirement already satisfied: chardet<4,>=3.0.2 in /usr/local/lib/python3.8/dist-packages (from requests>=2.19.0->datasets) (3.0.4)\n",
            "Requirement already satisfied: urllib3!=1.25.0,!=1.25.1,<1.26,>=1.21.1 in /usr/local/lib/python3.8/dist-packages (from requests>=2.19.0->datasets) (1.25.11)\n",
            "Requirement already satisfied: idna<3,>=2.5 in /usr/local/lib/python3.8/dist-packages (from requests>=2.19.0->datasets) (2.10)\n",
            "Requirement already satisfied: pytz>=2017.3 in /usr/local/lib/python3.8/dist-packages (from pandas->datasets) (2022.6)\n",
            "Requirement already satisfied: python-dateutil>=2.7.3 in /usr/local/lib/python3.8/dist-packages (from pandas->datasets) (2.8.2)\n",
            "Requirement already satisfied: six>=1.5 in /usr/local/lib/python3.8/dist-packages (from python-dateutil>=2.7.3->pandas->datasets) (1.15.0)\n"
          ]
        }
      ],
      "source": [
        "!pip install datasets\n",
        "import numpy as np\n",
        "import pandas as pd\n",
        "import os\n",
        "import tensorflow as tf\n"
      ]
    },
    {
      "cell_type": "code",
      "source": [
        "\n",
        "try:\n",
        "    from unidecode import unidecode\n",
        "except ModuleNotFoundError:\n",
        "    !pip install unidecode\n",
        "    from unidecode import unidecode\n",
        "     "
      ],
      "metadata": {
        "id": "nb8mqPOyLkps"
      },
      "execution_count": 2,
      "outputs": []
    },
    {
      "cell_type": "code",
      "source": [
        "\n",
        "try:\n",
        "    import datasets\n",
        "except ModuleNotFoundError:\n",
        "    !pip install datasets\n",
        "    import datasets\n",
        "     "
      ],
      "metadata": {
        "id": "9VA2mEgkLwis"
      },
      "execution_count": 3,
      "outputs": []
    },
    {
      "cell_type": "code",
      "source": [
        "from datasets import load_dataset\n",
        "\n",
        "\n",
        "dataset = load_dataset('go_emotions','raw')\n",
        "emotions = [\n",
        " 'admiration',\n",
        " 'amusement',\n",
        " 'anger',\n",
        " 'annoyance',\n",
        " 'approval',\n",
        " 'caring',\n",
        " 'confusion',\n",
        " 'curiosity',\n",
        " 'desire',\n",
        " 'disappointment',\n",
        " 'disapproval',\n",
        " 'disgust',\n",
        " 'embarrassment',\n",
        " 'excitement',\n",
        " 'fear',\n",
        " 'gratitude',\n",
        " 'grief',\n",
        " 'joy',\n",
        " 'love',\n",
        " 'nervousness',\n",
        " 'optimism',\n",
        " 'pride',\n",
        " 'realization',\n",
        " 'relief',\n",
        " 'remorse',\n",
        " 'sadness',\n",
        " 'surprise',\n",
        " 'neutral']      \n",
        "     "
      ],
      "metadata": {
        "colab": {
          "base_uri": "https://localhost:8080/",
          "height": 86,
          "referenced_widgets": [
            "eb769aa45a0b4e25a242d26f56d85e1d",
            "ddaff6736a074758ade172768a08930c",
            "cfe066f4099c4042a97649e5103e149a",
            "fefa90cb0e3642fc95f23065c2fac78a",
            "d1567ce3afce4c958ad1b7735ba02ac8",
            "36e2f75f78d14025b3b4d3edf81fc71a",
            "c5184a6dbfed43e988f8533b014a3b99",
            "b757a023a27941b5bf5210ecd1f132b9",
            "90b8faa5008e42deaaae83869973257d",
            "9efedd9205af43548b2d7a2e859f9feb",
            "690a74203f44416489153949c39d19b0"
          ]
        },
        "id": "kQberScJZrFi",
        "outputId": "6f489a94-8333-4e68-e362-59cdfeb53c36"
      },
      "execution_count": 5,
      "outputs": [
        {
          "output_type": "stream",
          "name": "stderr",
          "text": [
            "WARNING:datasets.builder:Found cached dataset go_emotions (/root/.cache/huggingface/datasets/go_emotions/raw/0.0.0/2637cfdd4e64d30249c3ed2150fa2b9d279766bfcd6a809b9f085c61a90d776d)\n"
          ]
        },
        {
          "output_type": "display_data",
          "data": {
            "text/plain": [
              "  0%|          | 0/1 [00:00<?, ?it/s]"
            ],
            "application/vnd.jupyter.widget-view+json": {
              "version_major": 2,
              "version_minor": 0,
              "model_id": "eb769aa45a0b4e25a242d26f56d85e1d"
            }
          },
          "metadata": {}
        }
      ]
    },
    {
      "cell_type": "code",
      "source": [
        "\n",
        "id_label = {str(i):label for i, label in enumerate(emotions)}\n",
        "label_id = {label:str(i) for i, label in enumerate(emotions)}\n",
        "\n",
        "id_label\n",
        "\n"
      ],
      "metadata": {
        "colab": {
          "base_uri": "https://localhost:8080/"
        },
        "id": "Wc6dG5uXxMsP",
        "outputId": "c8765966-94b5-4fba-be7a-c81b3136fdc1"
      },
      "execution_count": 6,
      "outputs": [
        {
          "output_type": "execute_result",
          "data": {
            "text/plain": [
              "{'0': 'admiration',\n",
              " '1': 'amusement',\n",
              " '2': 'anger',\n",
              " '3': 'annoyance',\n",
              " '4': 'approval',\n",
              " '5': 'caring',\n",
              " '6': 'confusion',\n",
              " '7': 'curiosity',\n",
              " '8': 'desire',\n",
              " '9': 'disappointment',\n",
              " '10': 'disapproval',\n",
              " '11': 'disgust',\n",
              " '12': 'embarrassment',\n",
              " '13': 'excitement',\n",
              " '14': 'fear',\n",
              " '15': 'gratitude',\n",
              " '16': 'grief',\n",
              " '17': 'joy',\n",
              " '18': 'love',\n",
              " '19': 'nervousness',\n",
              " '20': 'optimism',\n",
              " '21': 'pride',\n",
              " '22': 'realization',\n",
              " '23': 'relief',\n",
              " '24': 'remorse',\n",
              " '25': 'sadness',\n",
              " '26': 'surprise',\n",
              " '27': 'neutral'}"
            ]
          },
          "metadata": {},
          "execution_count": 6
        }
      ]
    },
    {
      "cell_type": "code",
      "source": [
        "\n",
        "df_train=pd.DataFrame.from_dict(dataset[\"train\"])\n",
        "\n"
      ],
      "metadata": {
        "id": "M7VID4YYb8eY"
      },
      "execution_count": 7,
      "outputs": []
    },
    {
      "cell_type": "markdown",
      "source": [
        "#CLEAN THE DATASET"
      ],
      "metadata": {
        "id": "fFYFRFc0rmYB"
      }
    },
    {
      "cell_type": "markdown",
      "source": [
        "##Normalize the dataset\n",
        "Normalizing characters\n",
        "Some of the tools we'll be using later cannot flawlessly handle all unicode characters. To avoid problems, we will normalize all characters to their closest ASCII equivalent using the function unidecode (imported from unidecode package).\n",
        "\n",
        "The function basically replaces all characters bearing diacritic signs with their corresponding plain character, as well as any symbols with close ASCII equivalents. The result is a text with no accents, cedillas, no € symbol, etc."
      ],
      "metadata": {
        "id": "cObFBk3hL-z8"
      }
    },
    {
      "cell_type": "code",
      "source": [
        "\n",
        "df_train['text']= df_train['text'].map(lambda x: unidecode(x))\n",
        "\n",
        "df_train"
      ],
      "metadata": {
        "colab": {
          "base_uri": "https://localhost:8080/",
          "height": 852
        },
        "id": "RObG4folL9a6",
        "outputId": "0339fa3e-20ba-4b01-ea74-39487b9a3295"
      },
      "execution_count": 8,
      "outputs": [
        {
          "output_type": "execute_result",
          "data": {
            "text/plain": [
              "                                                     text       id  \\\n",
              "0                                         That game hurt.  eew5j0j   \n",
              "1        >sexuality shouldn't be a grouping category I...  eemcysk   \n",
              "2          You do right, if you don't care then fuck 'em!  ed2mah1   \n",
              "3                                      Man I love reddit.  eeibobj   \n",
              "4       [NAME] was nowhere near them, he was by the Fa...  eda6yn6   \n",
              "...                                                   ...      ...   \n",
              "211220                             Everyone likes [NAME].  ee6pagw   \n",
              "211221  Well when you've imported about a gazillion of...  ef28nod   \n",
              "211222                                 That looks amazing  ee8hse1   \n",
              "211223  The FDA has plenty to criticize. But like here...  edrhoxh   \n",
              "211224  Desktop link: ^^/r/HelperBot_ ^^Downvote ^^to ...  edze9g4   \n",
              "\n",
              "                     author            subreddit    link_id   parent_id  \\\n",
              "0                     Brdd9                  nrl  t3_ajis4z  t1_eew18eq   \n",
              "1               TheGreen888     unpopularopinion  t3_ai4q37   t3_ai4q37   \n",
              "2                  Labalool          confessions  t3_abru74  t1_ed2m7g7   \n",
              "3             MrsRobertshaw             facepalm  t3_ahulml   t3_ahulml   \n",
              "4       American_Fascist713  starwarsspeculation  t3_ackt2f  t1_eda65q2   \n",
              "...                     ...                  ...        ...         ...   \n",
              "211220             Senshado     heroesofthestorm  t3_agjf24   t3_agjf24   \n",
              "211221           5inchloser          nottheonion  t3_ak26t3   t3_ak26t3   \n",
              "211222           springt1me       shittyfoodporn  t3_agrnqb   t3_agrnqb   \n",
              "211223            enamedata             medicine  t3_aejqzd  t1_edrgdtx   \n",
              "211224           HelperBot_        MorbidReality  t3_afhw30  t1_edze91s   \n",
              "\n",
              "         created_utc  rater_id  example_very_unclear  admiration  ...  love  \\\n",
              "0       1.548381e+09         1                 False           0  ...     0   \n",
              "1       1.548084e+09        37                 False           0  ...     0   \n",
              "2       1.546428e+09        37                 False           0  ...     0   \n",
              "3       1.547965e+09        18                 False           0  ...     1   \n",
              "4       1.546669e+09         2                 False           0  ...     0   \n",
              "...              ...       ...                   ...         ...  ...   ...   \n",
              "211220  1.547634e+09        16                 False           0  ...     1   \n",
              "211221  1.548553e+09        15                 False           0  ...     0   \n",
              "211222  1.547684e+09        70                 False           1  ...     0   \n",
              "211223  1.547169e+09         4                 False           0  ...     0   \n",
              "211224  1.547397e+09        61                 False           0  ...     0   \n",
              "\n",
              "        nervousness  optimism  pride  realization  relief  remorse  sadness  \\\n",
              "0                 0         0      0            0       0        0        1   \n",
              "1                 0         0      0            0       0        0        0   \n",
              "2                 0         0      0            0       0        0        0   \n",
              "3                 0         0      0            0       0        0        0   \n",
              "4                 0         0      0            0       0        0        0   \n",
              "...             ...       ...    ...          ...     ...      ...      ...   \n",
              "211220            0         0      0            0       0        0        0   \n",
              "211221            0         0      0            0       0        0        0   \n",
              "211222            0         0      0            0       0        0        0   \n",
              "211223            0         0      0            0       0        0        0   \n",
              "211224            0         0      0            0       0        0        0   \n",
              "\n",
              "        surprise  neutral  \n",
              "0              0        0  \n",
              "1              0        0  \n",
              "2              0        1  \n",
              "3              0        0  \n",
              "4              0        1  \n",
              "...          ...      ...  \n",
              "211220         0        0  \n",
              "211221         0        0  \n",
              "211222         0        0  \n",
              "211223         0        0  \n",
              "211224         0        0  \n",
              "\n",
              "[211225 rows x 37 columns]"
            ],
            "text/html": [
              "\n",
              "  <div id=\"df-e52d839a-98fa-49ed-baf8-6149788bb0d2\">\n",
              "    <div class=\"colab-df-container\">\n",
              "      <div>\n",
              "<style scoped>\n",
              "    .dataframe tbody tr th:only-of-type {\n",
              "        vertical-align: middle;\n",
              "    }\n",
              "\n",
              "    .dataframe tbody tr th {\n",
              "        vertical-align: top;\n",
              "    }\n",
              "\n",
              "    .dataframe thead th {\n",
              "        text-align: right;\n",
              "    }\n",
              "</style>\n",
              "<table border=\"1\" class=\"dataframe\">\n",
              "  <thead>\n",
              "    <tr style=\"text-align: right;\">\n",
              "      <th></th>\n",
              "      <th>text</th>\n",
              "      <th>id</th>\n",
              "      <th>author</th>\n",
              "      <th>subreddit</th>\n",
              "      <th>link_id</th>\n",
              "      <th>parent_id</th>\n",
              "      <th>created_utc</th>\n",
              "      <th>rater_id</th>\n",
              "      <th>example_very_unclear</th>\n",
              "      <th>admiration</th>\n",
              "      <th>...</th>\n",
              "      <th>love</th>\n",
              "      <th>nervousness</th>\n",
              "      <th>optimism</th>\n",
              "      <th>pride</th>\n",
              "      <th>realization</th>\n",
              "      <th>relief</th>\n",
              "      <th>remorse</th>\n",
              "      <th>sadness</th>\n",
              "      <th>surprise</th>\n",
              "      <th>neutral</th>\n",
              "    </tr>\n",
              "  </thead>\n",
              "  <tbody>\n",
              "    <tr>\n",
              "      <th>0</th>\n",
              "      <td>That game hurt.</td>\n",
              "      <td>eew5j0j</td>\n",
              "      <td>Brdd9</td>\n",
              "      <td>nrl</td>\n",
              "      <td>t3_ajis4z</td>\n",
              "      <td>t1_eew18eq</td>\n",
              "      <td>1.548381e+09</td>\n",
              "      <td>1</td>\n",
              "      <td>False</td>\n",
              "      <td>0</td>\n",
              "      <td>...</td>\n",
              "      <td>0</td>\n",
              "      <td>0</td>\n",
              "      <td>0</td>\n",
              "      <td>0</td>\n",
              "      <td>0</td>\n",
              "      <td>0</td>\n",
              "      <td>0</td>\n",
              "      <td>1</td>\n",
              "      <td>0</td>\n",
              "      <td>0</td>\n",
              "    </tr>\n",
              "    <tr>\n",
              "      <th>1</th>\n",
              "      <td>&gt;sexuality shouldn't be a grouping category I...</td>\n",
              "      <td>eemcysk</td>\n",
              "      <td>TheGreen888</td>\n",
              "      <td>unpopularopinion</td>\n",
              "      <td>t3_ai4q37</td>\n",
              "      <td>t3_ai4q37</td>\n",
              "      <td>1.548084e+09</td>\n",
              "      <td>37</td>\n",
              "      <td>False</td>\n",
              "      <td>0</td>\n",
              "      <td>...</td>\n",
              "      <td>0</td>\n",
              "      <td>0</td>\n",
              "      <td>0</td>\n",
              "      <td>0</td>\n",
              "      <td>0</td>\n",
              "      <td>0</td>\n",
              "      <td>0</td>\n",
              "      <td>0</td>\n",
              "      <td>0</td>\n",
              "      <td>0</td>\n",
              "    </tr>\n",
              "    <tr>\n",
              "      <th>2</th>\n",
              "      <td>You do right, if you don't care then fuck 'em!</td>\n",
              "      <td>ed2mah1</td>\n",
              "      <td>Labalool</td>\n",
              "      <td>confessions</td>\n",
              "      <td>t3_abru74</td>\n",
              "      <td>t1_ed2m7g7</td>\n",
              "      <td>1.546428e+09</td>\n",
              "      <td>37</td>\n",
              "      <td>False</td>\n",
              "      <td>0</td>\n",
              "      <td>...</td>\n",
              "      <td>0</td>\n",
              "      <td>0</td>\n",
              "      <td>0</td>\n",
              "      <td>0</td>\n",
              "      <td>0</td>\n",
              "      <td>0</td>\n",
              "      <td>0</td>\n",
              "      <td>0</td>\n",
              "      <td>0</td>\n",
              "      <td>1</td>\n",
              "    </tr>\n",
              "    <tr>\n",
              "      <th>3</th>\n",
              "      <td>Man I love reddit.</td>\n",
              "      <td>eeibobj</td>\n",
              "      <td>MrsRobertshaw</td>\n",
              "      <td>facepalm</td>\n",
              "      <td>t3_ahulml</td>\n",
              "      <td>t3_ahulml</td>\n",
              "      <td>1.547965e+09</td>\n",
              "      <td>18</td>\n",
              "      <td>False</td>\n",
              "      <td>0</td>\n",
              "      <td>...</td>\n",
              "      <td>1</td>\n",
              "      <td>0</td>\n",
              "      <td>0</td>\n",
              "      <td>0</td>\n",
              "      <td>0</td>\n",
              "      <td>0</td>\n",
              "      <td>0</td>\n",
              "      <td>0</td>\n",
              "      <td>0</td>\n",
              "      <td>0</td>\n",
              "    </tr>\n",
              "    <tr>\n",
              "      <th>4</th>\n",
              "      <td>[NAME] was nowhere near them, he was by the Fa...</td>\n",
              "      <td>eda6yn6</td>\n",
              "      <td>American_Fascist713</td>\n",
              "      <td>starwarsspeculation</td>\n",
              "      <td>t3_ackt2f</td>\n",
              "      <td>t1_eda65q2</td>\n",
              "      <td>1.546669e+09</td>\n",
              "      <td>2</td>\n",
              "      <td>False</td>\n",
              "      <td>0</td>\n",
              "      <td>...</td>\n",
              "      <td>0</td>\n",
              "      <td>0</td>\n",
              "      <td>0</td>\n",
              "      <td>0</td>\n",
              "      <td>0</td>\n",
              "      <td>0</td>\n",
              "      <td>0</td>\n",
              "      <td>0</td>\n",
              "      <td>0</td>\n",
              "      <td>1</td>\n",
              "    </tr>\n",
              "    <tr>\n",
              "      <th>...</th>\n",
              "      <td>...</td>\n",
              "      <td>...</td>\n",
              "      <td>...</td>\n",
              "      <td>...</td>\n",
              "      <td>...</td>\n",
              "      <td>...</td>\n",
              "      <td>...</td>\n",
              "      <td>...</td>\n",
              "      <td>...</td>\n",
              "      <td>...</td>\n",
              "      <td>...</td>\n",
              "      <td>...</td>\n",
              "      <td>...</td>\n",
              "      <td>...</td>\n",
              "      <td>...</td>\n",
              "      <td>...</td>\n",
              "      <td>...</td>\n",
              "      <td>...</td>\n",
              "      <td>...</td>\n",
              "      <td>...</td>\n",
              "      <td>...</td>\n",
              "    </tr>\n",
              "    <tr>\n",
              "      <th>211220</th>\n",
              "      <td>Everyone likes [NAME].</td>\n",
              "      <td>ee6pagw</td>\n",
              "      <td>Senshado</td>\n",
              "      <td>heroesofthestorm</td>\n",
              "      <td>t3_agjf24</td>\n",
              "      <td>t3_agjf24</td>\n",
              "      <td>1.547634e+09</td>\n",
              "      <td>16</td>\n",
              "      <td>False</td>\n",
              "      <td>0</td>\n",
              "      <td>...</td>\n",
              "      <td>1</td>\n",
              "      <td>0</td>\n",
              "      <td>0</td>\n",
              "      <td>0</td>\n",
              "      <td>0</td>\n",
              "      <td>0</td>\n",
              "      <td>0</td>\n",
              "      <td>0</td>\n",
              "      <td>0</td>\n",
              "      <td>0</td>\n",
              "    </tr>\n",
              "    <tr>\n",
              "      <th>211221</th>\n",
              "      <td>Well when you've imported about a gazillion of...</td>\n",
              "      <td>ef28nod</td>\n",
              "      <td>5inchloser</td>\n",
              "      <td>nottheonion</td>\n",
              "      <td>t3_ak26t3</td>\n",
              "      <td>t3_ak26t3</td>\n",
              "      <td>1.548553e+09</td>\n",
              "      <td>15</td>\n",
              "      <td>False</td>\n",
              "      <td>0</td>\n",
              "      <td>...</td>\n",
              "      <td>0</td>\n",
              "      <td>0</td>\n",
              "      <td>0</td>\n",
              "      <td>0</td>\n",
              "      <td>0</td>\n",
              "      <td>0</td>\n",
              "      <td>0</td>\n",
              "      <td>0</td>\n",
              "      <td>0</td>\n",
              "      <td>0</td>\n",
              "    </tr>\n",
              "    <tr>\n",
              "      <th>211222</th>\n",
              "      <td>That looks amazing</td>\n",
              "      <td>ee8hse1</td>\n",
              "      <td>springt1me</td>\n",
              "      <td>shittyfoodporn</td>\n",
              "      <td>t3_agrnqb</td>\n",
              "      <td>t3_agrnqb</td>\n",
              "      <td>1.547684e+09</td>\n",
              "      <td>70</td>\n",
              "      <td>False</td>\n",
              "      <td>1</td>\n",
              "      <td>...</td>\n",
              "      <td>0</td>\n",
              "      <td>0</td>\n",
              "      <td>0</td>\n",
              "      <td>0</td>\n",
              "      <td>0</td>\n",
              "      <td>0</td>\n",
              "      <td>0</td>\n",
              "      <td>0</td>\n",
              "      <td>0</td>\n",
              "      <td>0</td>\n",
              "    </tr>\n",
              "    <tr>\n",
              "      <th>211223</th>\n",
              "      <td>The FDA has plenty to criticize. But like here...</td>\n",
              "      <td>edrhoxh</td>\n",
              "      <td>enamedata</td>\n",
              "      <td>medicine</td>\n",
              "      <td>t3_aejqzd</td>\n",
              "      <td>t1_edrgdtx</td>\n",
              "      <td>1.547169e+09</td>\n",
              "      <td>4</td>\n",
              "      <td>False</td>\n",
              "      <td>0</td>\n",
              "      <td>...</td>\n",
              "      <td>0</td>\n",
              "      <td>0</td>\n",
              "      <td>0</td>\n",
              "      <td>0</td>\n",
              "      <td>0</td>\n",
              "      <td>0</td>\n",
              "      <td>0</td>\n",
              "      <td>0</td>\n",
              "      <td>0</td>\n",
              "      <td>0</td>\n",
              "    </tr>\n",
              "    <tr>\n",
              "      <th>211224</th>\n",
              "      <td>Desktop link: ^^/r/HelperBot_ ^^Downvote ^^to ...</td>\n",
              "      <td>edze9g4</td>\n",
              "      <td>HelperBot_</td>\n",
              "      <td>MorbidReality</td>\n",
              "      <td>t3_afhw30</td>\n",
              "      <td>t1_edze91s</td>\n",
              "      <td>1.547397e+09</td>\n",
              "      <td>61</td>\n",
              "      <td>False</td>\n",
              "      <td>0</td>\n",
              "      <td>...</td>\n",
              "      <td>0</td>\n",
              "      <td>0</td>\n",
              "      <td>0</td>\n",
              "      <td>0</td>\n",
              "      <td>0</td>\n",
              "      <td>0</td>\n",
              "      <td>0</td>\n",
              "      <td>0</td>\n",
              "      <td>0</td>\n",
              "      <td>0</td>\n",
              "    </tr>\n",
              "  </tbody>\n",
              "</table>\n",
              "<p>211225 rows × 37 columns</p>\n",
              "</div>\n",
              "      <button class=\"colab-df-convert\" onclick=\"convertToInteractive('df-e52d839a-98fa-49ed-baf8-6149788bb0d2')\"\n",
              "              title=\"Convert this dataframe to an interactive table.\"\n",
              "              style=\"display:none;\">\n",
              "        \n",
              "  <svg xmlns=\"http://www.w3.org/2000/svg\" height=\"24px\"viewBox=\"0 0 24 24\"\n",
              "       width=\"24px\">\n",
              "    <path d=\"M0 0h24v24H0V0z\" fill=\"none\"/>\n",
              "    <path d=\"M18.56 5.44l.94 2.06.94-2.06 2.06-.94-2.06-.94-.94-2.06-.94 2.06-2.06.94zm-11 1L8.5 8.5l.94-2.06 2.06-.94-2.06-.94L8.5 2.5l-.94 2.06-2.06.94zm10 10l.94 2.06.94-2.06 2.06-.94-2.06-.94-.94-2.06-.94 2.06-2.06.94z\"/><path d=\"M17.41 7.96l-1.37-1.37c-.4-.4-.92-.59-1.43-.59-.52 0-1.04.2-1.43.59L10.3 9.45l-7.72 7.72c-.78.78-.78 2.05 0 2.83L4 21.41c.39.39.9.59 1.41.59.51 0 1.02-.2 1.41-.59l7.78-7.78 2.81-2.81c.8-.78.8-2.07 0-2.86zM5.41 20L4 18.59l7.72-7.72 1.47 1.35L5.41 20z\"/>\n",
              "  </svg>\n",
              "      </button>\n",
              "      \n",
              "  <style>\n",
              "    .colab-df-container {\n",
              "      display:flex;\n",
              "      flex-wrap:wrap;\n",
              "      gap: 12px;\n",
              "    }\n",
              "\n",
              "    .colab-df-convert {\n",
              "      background-color: #E8F0FE;\n",
              "      border: none;\n",
              "      border-radius: 50%;\n",
              "      cursor: pointer;\n",
              "      display: none;\n",
              "      fill: #1967D2;\n",
              "      height: 32px;\n",
              "      padding: 0 0 0 0;\n",
              "      width: 32px;\n",
              "    }\n",
              "\n",
              "    .colab-df-convert:hover {\n",
              "      background-color: #E2EBFA;\n",
              "      box-shadow: 0px 1px 2px rgba(60, 64, 67, 0.3), 0px 1px 3px 1px rgba(60, 64, 67, 0.15);\n",
              "      fill: #174EA6;\n",
              "    }\n",
              "\n",
              "    [theme=dark] .colab-df-convert {\n",
              "      background-color: #3B4455;\n",
              "      fill: #D2E3FC;\n",
              "    }\n",
              "\n",
              "    [theme=dark] .colab-df-convert:hover {\n",
              "      background-color: #434B5C;\n",
              "      box-shadow: 0px 1px 3px 1px rgba(0, 0, 0, 0.15);\n",
              "      filter: drop-shadow(0px 1px 2px rgba(0, 0, 0, 0.3));\n",
              "      fill: #FFFFFF;\n",
              "    }\n",
              "  </style>\n",
              "\n",
              "      <script>\n",
              "        const buttonEl =\n",
              "          document.querySelector('#df-e52d839a-98fa-49ed-baf8-6149788bb0d2 button.colab-df-convert');\n",
              "        buttonEl.style.display =\n",
              "          google.colab.kernel.accessAllowed ? 'block' : 'none';\n",
              "\n",
              "        async function convertToInteractive(key) {\n",
              "          const element = document.querySelector('#df-e52d839a-98fa-49ed-baf8-6149788bb0d2');\n",
              "          const dataTable =\n",
              "            await google.colab.kernel.invokeFunction('convertToInteractive',\n",
              "                                                     [key], {});\n",
              "          if (!dataTable) return;\n",
              "\n",
              "          const docLinkHtml = 'Like what you see? Visit the ' +\n",
              "            '<a target=\"_blank\" href=https://colab.research.google.com/notebooks/data_table.ipynb>data table notebook</a>'\n",
              "            + ' to learn more about interactive tables.';\n",
              "          element.innerHTML = '';\n",
              "          dataTable['output_type'] = 'display_data';\n",
              "          await google.colab.output.renderOutput(dataTable, element);\n",
              "          const docLink = document.createElement('div');\n",
              "          docLink.innerHTML = docLinkHtml;\n",
              "          element.appendChild(docLink);\n",
              "        }\n",
              "      </script>\n",
              "    </div>\n",
              "  </div>\n",
              "  "
            ]
          },
          "metadata": {},
          "execution_count": 8
        }
      ]
    },
    {
      "cell_type": "code",
      "source": [
        "\n",
        "df_train[\"labels\"] = df_train[emotions].values.tolist()\n",
        "df_train.head(10)"
      ],
      "metadata": {
        "colab": {
          "base_uri": "https://localhost:8080/",
          "height": 1000
        },
        "id": "IWoBoxs5yIFf",
        "outputId": "22926217-3cd0-497d-ada0-352a05dc7bd6"
      },
      "execution_count": 9,
      "outputs": [
        {
          "output_type": "execute_result",
          "data": {
            "text/plain": [
              "                                                text       id  \\\n",
              "0                                    That game hurt.  eew5j0j   \n",
              "1   >sexuality shouldn't be a grouping category I...  eemcysk   \n",
              "2     You do right, if you don't care then fuck 'em!  ed2mah1   \n",
              "3                                 Man I love reddit.  eeibobj   \n",
              "4  [NAME] was nowhere near them, he was by the Fa...  eda6yn6   \n",
              "5  Right? Considering it's such an important docu...  eespn2i   \n",
              "6  He isn't as big, but he's still quite popular....  eczuekb   \n",
              "7  That's crazy; I went to a super [RELIGION] hig...  ed5tx8y   \n",
              "8                                that's adorable asf  ef961hv   \n",
              "9  \"Sponge Blurb Pubs Quaw Haha GURR ha AAa!\" fin...  edl7cr3   \n",
              "\n",
              "                author             subreddit    link_id   parent_id  \\\n",
              "0                Brdd9                   nrl  t3_ajis4z  t1_eew18eq   \n",
              "1          TheGreen888      unpopularopinion  t3_ai4q37   t3_ai4q37   \n",
              "2             Labalool           confessions  t3_abru74  t1_ed2m7g7   \n",
              "3        MrsRobertshaw              facepalm  t3_ahulml   t3_ahulml   \n",
              "4  American_Fascist713   starwarsspeculation  t3_ackt2f  t1_eda65q2   \n",
              "5         ImperialBoss            TrueReddit  t3_aizyuz  t1_eesoak0   \n",
              "6             Rallings                cringe  t3_abeksv  t1_eczsmp8   \n",
              "7           Beachy5313  TeenMomOGandTeenMom2  t3_ac10u9  t1_ed5tfyc   \n",
              "8         RedRails1917  traaaaaaannnnnnnnnns  t3_akz2ia   t3_akz2ia   \n",
              "9             Tiagulus          youtubehaiku  t3_acuvb0  t1_edc21ip   \n",
              "\n",
              "    created_utc  rater_id  example_very_unclear  admiration  ...  nervousness  \\\n",
              "0  1.548381e+09         1                 False           0  ...            0   \n",
              "1  1.548084e+09        37                 False           0  ...            0   \n",
              "2  1.546428e+09        37                 False           0  ...            0   \n",
              "3  1.547965e+09        18                 False           0  ...            0   \n",
              "4  1.546669e+09         2                 False           0  ...            0   \n",
              "5  1.548280e+09        61                 False           0  ...            0   \n",
              "6  1.546320e+09         3                 False           0  ...            0   \n",
              "7  1.546536e+09        23                 False           0  ...            0   \n",
              "8  1.548764e+09        73                 False           0  ...            0   \n",
              "9  1.546984e+09        54                 False           0  ...            0   \n",
              "\n",
              "   optimism  pride  realization  relief  remorse  sadness  surprise  neutral  \\\n",
              "0         0      0            0       0        0        1         0        0   \n",
              "1         0      0            0       0        0        0         0        0   \n",
              "2         0      0            0       0        0        0         0        1   \n",
              "3         0      0            0       0        0        0         0        0   \n",
              "4         0      0            0       0        0        0         0        1   \n",
              "5         0      0            0       0        0        0         0        0   \n",
              "6         0      0            0       0        0        0         0        0   \n",
              "7         0      0            0       0        0        0         0        0   \n",
              "8         0      0            0       0        0        0         0        0   \n",
              "9         0      0            0       0        0        0         0        0   \n",
              "\n",
              "                                              labels  \n",
              "0  [0, 0, 0, 0, 0, 0, 0, 0, 0, 0, 0, 0, 0, 0, 0, ...  \n",
              "1  [0, 0, 0, 0, 0, 0, 0, 0, 0, 0, 0, 0, 0, 0, 0, ...  \n",
              "2  [0, 0, 0, 0, 0, 0, 0, 0, 0, 0, 0, 0, 0, 0, 0, ...  \n",
              "3  [0, 0, 0, 0, 0, 0, 0, 0, 0, 0, 0, 0, 0, 0, 0, ...  \n",
              "4  [0, 0, 0, 0, 0, 0, 0, 0, 0, 0, 0, 0, 0, 0, 0, ...  \n",
              "5  [0, 0, 0, 0, 0, 0, 0, 0, 0, 0, 0, 0, 0, 0, 0, ...  \n",
              "6  [0, 0, 0, 0, 0, 0, 0, 0, 0, 0, 1, 0, 0, 0, 0, ...  \n",
              "7  [0, 1, 0, 0, 0, 0, 0, 0, 0, 0, 0, 0, 0, 0, 0, ...  \n",
              "8  [0, 1, 0, 0, 0, 0, 0, 0, 0, 0, 0, 0, 0, 0, 0, ...  \n",
              "9  [0, 1, 0, 0, 0, 0, 0, 0, 0, 0, 0, 0, 0, 0, 0, ...  \n",
              "\n",
              "[10 rows x 38 columns]"
            ],
            "text/html": [
              "\n",
              "  <div id=\"df-aa5776dc-57ef-4915-8e15-deeacf96372f\">\n",
              "    <div class=\"colab-df-container\">\n",
              "      <div>\n",
              "<style scoped>\n",
              "    .dataframe tbody tr th:only-of-type {\n",
              "        vertical-align: middle;\n",
              "    }\n",
              "\n",
              "    .dataframe tbody tr th {\n",
              "        vertical-align: top;\n",
              "    }\n",
              "\n",
              "    .dataframe thead th {\n",
              "        text-align: right;\n",
              "    }\n",
              "</style>\n",
              "<table border=\"1\" class=\"dataframe\">\n",
              "  <thead>\n",
              "    <tr style=\"text-align: right;\">\n",
              "      <th></th>\n",
              "      <th>text</th>\n",
              "      <th>id</th>\n",
              "      <th>author</th>\n",
              "      <th>subreddit</th>\n",
              "      <th>link_id</th>\n",
              "      <th>parent_id</th>\n",
              "      <th>created_utc</th>\n",
              "      <th>rater_id</th>\n",
              "      <th>example_very_unclear</th>\n",
              "      <th>admiration</th>\n",
              "      <th>...</th>\n",
              "      <th>nervousness</th>\n",
              "      <th>optimism</th>\n",
              "      <th>pride</th>\n",
              "      <th>realization</th>\n",
              "      <th>relief</th>\n",
              "      <th>remorse</th>\n",
              "      <th>sadness</th>\n",
              "      <th>surprise</th>\n",
              "      <th>neutral</th>\n",
              "      <th>labels</th>\n",
              "    </tr>\n",
              "  </thead>\n",
              "  <tbody>\n",
              "    <tr>\n",
              "      <th>0</th>\n",
              "      <td>That game hurt.</td>\n",
              "      <td>eew5j0j</td>\n",
              "      <td>Brdd9</td>\n",
              "      <td>nrl</td>\n",
              "      <td>t3_ajis4z</td>\n",
              "      <td>t1_eew18eq</td>\n",
              "      <td>1.548381e+09</td>\n",
              "      <td>1</td>\n",
              "      <td>False</td>\n",
              "      <td>0</td>\n",
              "      <td>...</td>\n",
              "      <td>0</td>\n",
              "      <td>0</td>\n",
              "      <td>0</td>\n",
              "      <td>0</td>\n",
              "      <td>0</td>\n",
              "      <td>0</td>\n",
              "      <td>1</td>\n",
              "      <td>0</td>\n",
              "      <td>0</td>\n",
              "      <td>[0, 0, 0, 0, 0, 0, 0, 0, 0, 0, 0, 0, 0, 0, 0, ...</td>\n",
              "    </tr>\n",
              "    <tr>\n",
              "      <th>1</th>\n",
              "      <td>&gt;sexuality shouldn't be a grouping category I...</td>\n",
              "      <td>eemcysk</td>\n",
              "      <td>TheGreen888</td>\n",
              "      <td>unpopularopinion</td>\n",
              "      <td>t3_ai4q37</td>\n",
              "      <td>t3_ai4q37</td>\n",
              "      <td>1.548084e+09</td>\n",
              "      <td>37</td>\n",
              "      <td>False</td>\n",
              "      <td>0</td>\n",
              "      <td>...</td>\n",
              "      <td>0</td>\n",
              "      <td>0</td>\n",
              "      <td>0</td>\n",
              "      <td>0</td>\n",
              "      <td>0</td>\n",
              "      <td>0</td>\n",
              "      <td>0</td>\n",
              "      <td>0</td>\n",
              "      <td>0</td>\n",
              "      <td>[0, 0, 0, 0, 0, 0, 0, 0, 0, 0, 0, 0, 0, 0, 0, ...</td>\n",
              "    </tr>\n",
              "    <tr>\n",
              "      <th>2</th>\n",
              "      <td>You do right, if you don't care then fuck 'em!</td>\n",
              "      <td>ed2mah1</td>\n",
              "      <td>Labalool</td>\n",
              "      <td>confessions</td>\n",
              "      <td>t3_abru74</td>\n",
              "      <td>t1_ed2m7g7</td>\n",
              "      <td>1.546428e+09</td>\n",
              "      <td>37</td>\n",
              "      <td>False</td>\n",
              "      <td>0</td>\n",
              "      <td>...</td>\n",
              "      <td>0</td>\n",
              "      <td>0</td>\n",
              "      <td>0</td>\n",
              "      <td>0</td>\n",
              "      <td>0</td>\n",
              "      <td>0</td>\n",
              "      <td>0</td>\n",
              "      <td>0</td>\n",
              "      <td>1</td>\n",
              "      <td>[0, 0, 0, 0, 0, 0, 0, 0, 0, 0, 0, 0, 0, 0, 0, ...</td>\n",
              "    </tr>\n",
              "    <tr>\n",
              "      <th>3</th>\n",
              "      <td>Man I love reddit.</td>\n",
              "      <td>eeibobj</td>\n",
              "      <td>MrsRobertshaw</td>\n",
              "      <td>facepalm</td>\n",
              "      <td>t3_ahulml</td>\n",
              "      <td>t3_ahulml</td>\n",
              "      <td>1.547965e+09</td>\n",
              "      <td>18</td>\n",
              "      <td>False</td>\n",
              "      <td>0</td>\n",
              "      <td>...</td>\n",
              "      <td>0</td>\n",
              "      <td>0</td>\n",
              "      <td>0</td>\n",
              "      <td>0</td>\n",
              "      <td>0</td>\n",
              "      <td>0</td>\n",
              "      <td>0</td>\n",
              "      <td>0</td>\n",
              "      <td>0</td>\n",
              "      <td>[0, 0, 0, 0, 0, 0, 0, 0, 0, 0, 0, 0, 0, 0, 0, ...</td>\n",
              "    </tr>\n",
              "    <tr>\n",
              "      <th>4</th>\n",
              "      <td>[NAME] was nowhere near them, he was by the Fa...</td>\n",
              "      <td>eda6yn6</td>\n",
              "      <td>American_Fascist713</td>\n",
              "      <td>starwarsspeculation</td>\n",
              "      <td>t3_ackt2f</td>\n",
              "      <td>t1_eda65q2</td>\n",
              "      <td>1.546669e+09</td>\n",
              "      <td>2</td>\n",
              "      <td>False</td>\n",
              "      <td>0</td>\n",
              "      <td>...</td>\n",
              "      <td>0</td>\n",
              "      <td>0</td>\n",
              "      <td>0</td>\n",
              "      <td>0</td>\n",
              "      <td>0</td>\n",
              "      <td>0</td>\n",
              "      <td>0</td>\n",
              "      <td>0</td>\n",
              "      <td>1</td>\n",
              "      <td>[0, 0, 0, 0, 0, 0, 0, 0, 0, 0, 0, 0, 0, 0, 0, ...</td>\n",
              "    </tr>\n",
              "    <tr>\n",
              "      <th>5</th>\n",
              "      <td>Right? Considering it's such an important docu...</td>\n",
              "      <td>eespn2i</td>\n",
              "      <td>ImperialBoss</td>\n",
              "      <td>TrueReddit</td>\n",
              "      <td>t3_aizyuz</td>\n",
              "      <td>t1_eesoak0</td>\n",
              "      <td>1.548280e+09</td>\n",
              "      <td>61</td>\n",
              "      <td>False</td>\n",
              "      <td>0</td>\n",
              "      <td>...</td>\n",
              "      <td>0</td>\n",
              "      <td>0</td>\n",
              "      <td>0</td>\n",
              "      <td>0</td>\n",
              "      <td>0</td>\n",
              "      <td>0</td>\n",
              "      <td>0</td>\n",
              "      <td>0</td>\n",
              "      <td>0</td>\n",
              "      <td>[0, 0, 0, 0, 0, 0, 0, 0, 0, 0, 0, 0, 0, 0, 0, ...</td>\n",
              "    </tr>\n",
              "    <tr>\n",
              "      <th>6</th>\n",
              "      <td>He isn't as big, but he's still quite popular....</td>\n",
              "      <td>eczuekb</td>\n",
              "      <td>Rallings</td>\n",
              "      <td>cringe</td>\n",
              "      <td>t3_abeksv</td>\n",
              "      <td>t1_eczsmp8</td>\n",
              "      <td>1.546320e+09</td>\n",
              "      <td>3</td>\n",
              "      <td>False</td>\n",
              "      <td>0</td>\n",
              "      <td>...</td>\n",
              "      <td>0</td>\n",
              "      <td>0</td>\n",
              "      <td>0</td>\n",
              "      <td>0</td>\n",
              "      <td>0</td>\n",
              "      <td>0</td>\n",
              "      <td>0</td>\n",
              "      <td>0</td>\n",
              "      <td>0</td>\n",
              "      <td>[0, 0, 0, 0, 0, 0, 0, 0, 0, 0, 1, 0, 0, 0, 0, ...</td>\n",
              "    </tr>\n",
              "    <tr>\n",
              "      <th>7</th>\n",
              "      <td>That's crazy; I went to a super [RELIGION] hig...</td>\n",
              "      <td>ed5tx8y</td>\n",
              "      <td>Beachy5313</td>\n",
              "      <td>TeenMomOGandTeenMom2</td>\n",
              "      <td>t3_ac10u9</td>\n",
              "      <td>t1_ed5tfyc</td>\n",
              "      <td>1.546536e+09</td>\n",
              "      <td>23</td>\n",
              "      <td>False</td>\n",
              "      <td>0</td>\n",
              "      <td>...</td>\n",
              "      <td>0</td>\n",
              "      <td>0</td>\n",
              "      <td>0</td>\n",
              "      <td>0</td>\n",
              "      <td>0</td>\n",
              "      <td>0</td>\n",
              "      <td>0</td>\n",
              "      <td>0</td>\n",
              "      <td>0</td>\n",
              "      <td>[0, 1, 0, 0, 0, 0, 0, 0, 0, 0, 0, 0, 0, 0, 0, ...</td>\n",
              "    </tr>\n",
              "    <tr>\n",
              "      <th>8</th>\n",
              "      <td>that's adorable asf</td>\n",
              "      <td>ef961hv</td>\n",
              "      <td>RedRails1917</td>\n",
              "      <td>traaaaaaannnnnnnnnns</td>\n",
              "      <td>t3_akz2ia</td>\n",
              "      <td>t3_akz2ia</td>\n",
              "      <td>1.548764e+09</td>\n",
              "      <td>73</td>\n",
              "      <td>False</td>\n",
              "      <td>0</td>\n",
              "      <td>...</td>\n",
              "      <td>0</td>\n",
              "      <td>0</td>\n",
              "      <td>0</td>\n",
              "      <td>0</td>\n",
              "      <td>0</td>\n",
              "      <td>0</td>\n",
              "      <td>0</td>\n",
              "      <td>0</td>\n",
              "      <td>0</td>\n",
              "      <td>[0, 1, 0, 0, 0, 0, 0, 0, 0, 0, 0, 0, 0, 0, 0, ...</td>\n",
              "    </tr>\n",
              "    <tr>\n",
              "      <th>9</th>\n",
              "      <td>\"Sponge Blurb Pubs Quaw Haha GURR ha AAa!\" fin...</td>\n",
              "      <td>edl7cr3</td>\n",
              "      <td>Tiagulus</td>\n",
              "      <td>youtubehaiku</td>\n",
              "      <td>t3_acuvb0</td>\n",
              "      <td>t1_edc21ip</td>\n",
              "      <td>1.546984e+09</td>\n",
              "      <td>54</td>\n",
              "      <td>False</td>\n",
              "      <td>0</td>\n",
              "      <td>...</td>\n",
              "      <td>0</td>\n",
              "      <td>0</td>\n",
              "      <td>0</td>\n",
              "      <td>0</td>\n",
              "      <td>0</td>\n",
              "      <td>0</td>\n",
              "      <td>0</td>\n",
              "      <td>0</td>\n",
              "      <td>0</td>\n",
              "      <td>[0, 1, 0, 0, 0, 0, 0, 0, 0, 0, 0, 0, 0, 0, 0, ...</td>\n",
              "    </tr>\n",
              "  </tbody>\n",
              "</table>\n",
              "<p>10 rows × 38 columns</p>\n",
              "</div>\n",
              "      <button class=\"colab-df-convert\" onclick=\"convertToInteractive('df-aa5776dc-57ef-4915-8e15-deeacf96372f')\"\n",
              "              title=\"Convert this dataframe to an interactive table.\"\n",
              "              style=\"display:none;\">\n",
              "        \n",
              "  <svg xmlns=\"http://www.w3.org/2000/svg\" height=\"24px\"viewBox=\"0 0 24 24\"\n",
              "       width=\"24px\">\n",
              "    <path d=\"M0 0h24v24H0V0z\" fill=\"none\"/>\n",
              "    <path d=\"M18.56 5.44l.94 2.06.94-2.06 2.06-.94-2.06-.94-.94-2.06-.94 2.06-2.06.94zm-11 1L8.5 8.5l.94-2.06 2.06-.94-2.06-.94L8.5 2.5l-.94 2.06-2.06.94zm10 10l.94 2.06.94-2.06 2.06-.94-2.06-.94-.94-2.06-.94 2.06-2.06.94z\"/><path d=\"M17.41 7.96l-1.37-1.37c-.4-.4-.92-.59-1.43-.59-.52 0-1.04.2-1.43.59L10.3 9.45l-7.72 7.72c-.78.78-.78 2.05 0 2.83L4 21.41c.39.39.9.59 1.41.59.51 0 1.02-.2 1.41-.59l7.78-7.78 2.81-2.81c.8-.78.8-2.07 0-2.86zM5.41 20L4 18.59l7.72-7.72 1.47 1.35L5.41 20z\"/>\n",
              "  </svg>\n",
              "      </button>\n",
              "      \n",
              "  <style>\n",
              "    .colab-df-container {\n",
              "      display:flex;\n",
              "      flex-wrap:wrap;\n",
              "      gap: 12px;\n",
              "    }\n",
              "\n",
              "    .colab-df-convert {\n",
              "      background-color: #E8F0FE;\n",
              "      border: none;\n",
              "      border-radius: 50%;\n",
              "      cursor: pointer;\n",
              "      display: none;\n",
              "      fill: #1967D2;\n",
              "      height: 32px;\n",
              "      padding: 0 0 0 0;\n",
              "      width: 32px;\n",
              "    }\n",
              "\n",
              "    .colab-df-convert:hover {\n",
              "      background-color: #E2EBFA;\n",
              "      box-shadow: 0px 1px 2px rgba(60, 64, 67, 0.3), 0px 1px 3px 1px rgba(60, 64, 67, 0.15);\n",
              "      fill: #174EA6;\n",
              "    }\n",
              "\n",
              "    [theme=dark] .colab-df-convert {\n",
              "      background-color: #3B4455;\n",
              "      fill: #D2E3FC;\n",
              "    }\n",
              "\n",
              "    [theme=dark] .colab-df-convert:hover {\n",
              "      background-color: #434B5C;\n",
              "      box-shadow: 0px 1px 3px 1px rgba(0, 0, 0, 0.15);\n",
              "      filter: drop-shadow(0px 1px 2px rgba(0, 0, 0, 0.3));\n",
              "      fill: #FFFFFF;\n",
              "    }\n",
              "  </style>\n",
              "\n",
              "      <script>\n",
              "        const buttonEl =\n",
              "          document.querySelector('#df-aa5776dc-57ef-4915-8e15-deeacf96372f button.colab-df-convert');\n",
              "        buttonEl.style.display =\n",
              "          google.colab.kernel.accessAllowed ? 'block' : 'none';\n",
              "\n",
              "        async function convertToInteractive(key) {\n",
              "          const element = document.querySelector('#df-aa5776dc-57ef-4915-8e15-deeacf96372f');\n",
              "          const dataTable =\n",
              "            await google.colab.kernel.invokeFunction('convertToInteractive',\n",
              "                                                     [key], {});\n",
              "          if (!dataTable) return;\n",
              "\n",
              "          const docLinkHtml = 'Like what you see? Visit the ' +\n",
              "            '<a target=\"_blank\" href=https://colab.research.google.com/notebooks/data_table.ipynb>data table notebook</a>'\n",
              "            + ' to learn more about interactive tables.';\n",
              "          element.innerHTML = '';\n",
              "          dataTable['output_type'] = 'display_data';\n",
              "          await google.colab.output.renderOutput(dataTable, element);\n",
              "          const docLink = document.createElement('div');\n",
              "          docLink.innerHTML = docLinkHtml;\n",
              "          element.appendChild(docLink);\n",
              "        }\n",
              "      </script>\n",
              "    </div>\n",
              "  </div>\n",
              "  "
            ]
          },
          "metadata": {},
          "execution_count": 9
        }
      ]
    },
    {
      "cell_type": "markdown",
      "source": [
        "##Understanding our dataset\n",
        "We don't want to have duplicate data because it can false our accuracy when we will test our model"
      ],
      "metadata": {
        "id": "anfYRKvDiUnz"
      }
    },
    {
      "cell_type": "code",
      "source": [
        "nb=len(df_train.groupby(['text']))\n",
        "nb2=len(df_train['text'])\n",
        "\n",
        "print(\"nombre de texte different: \"+str(nb))\n",
        "print(\"nombre de texte: \"+str(nb2))\n"
      ],
      "metadata": {
        "colab": {
          "base_uri": "https://localhost:8080/"
        },
        "id": "2cCQ9ckefiru",
        "outputId": "5dcc7d38-8ac4-400b-ad19-2e83fcc95abd"
      },
      "execution_count": 10,
      "outputs": [
        {
          "output_type": "stream",
          "name": "stdout",
          "text": [
            "nombre de texte different: 57715\n",
            "nombre de texte: 211225\n"
          ]
        }
      ]
    },
    {
      "cell_type": "code",
      "source": [],
      "metadata": {
        "id": "-gMFevEpyEau"
      },
      "execution_count": null,
      "outputs": []
    },
    {
      "cell_type": "code",
      "source": [
        "df_train.drop_duplicates(subset =\"text\", keep = 'first', inplace=True)\n",
        "nb=len(df_train.groupby(['text']))\n",
        "nb2=len(df_train['text'])\n",
        "\n",
        "print(\"nombre de texte different: \"+str(nb))\n",
        "print(\"nombre de texte: \"+str(nb2))\n"
      ],
      "metadata": {
        "colab": {
          "base_uri": "https://localhost:8080/"
        },
        "id": "tJkwPQwMh_yd",
        "outputId": "6e30a59c-15c1-42dc-fc55-c42f6a3ecab5"
      },
      "execution_count": 11,
      "outputs": [
        {
          "output_type": "stream",
          "name": "stdout",
          "text": [
            "nombre de texte different: 57715\n",
            "nombre de texte: 57715\n"
          ]
        }
      ]
    },
    {
      "cell_type": "code",
      "source": [
        "df_train_clean=pd.concat([df_train['text'],df_train['labels']],axis=1)\n",
        "df_train_clean"
      ],
      "metadata": {
        "colab": {
          "base_uri": "https://localhost:8080/",
          "height": 424
        },
        "id": "Tf5WnoCWzCZS",
        "outputId": "9ac4d241-a6c8-4a8e-b19b-80329d4fafb9"
      },
      "execution_count": 12,
      "outputs": [
        {
          "output_type": "execute_result",
          "data": {
            "text/plain": [
              "                                                     text  \\\n",
              "0                                         That game hurt.   \n",
              "1        >sexuality shouldn't be a grouping category I...   \n",
              "2          You do right, if you don't care then fuck 'em!   \n",
              "3                                      Man I love reddit.   \n",
              "4       [NAME] was nowhere near them, he was by the Fa...   \n",
              "...                                                   ...   \n",
              "211086  He called [NAME] to the Steelers and was outsp...   \n",
              "211088  I didn't even notice that one. I noticed the b...   \n",
              "211094                                     Thanks, [NAME]   \n",
              "211095                             Everyone likes [NAME].   \n",
              "211161  I just called the Capitol Police. They are not...   \n",
              "\n",
              "                                                   labels  \n",
              "0       [0, 0, 0, 0, 0, 0, 0, 0, 0, 0, 0, 0, 0, 0, 0, ...  \n",
              "1       [0, 0, 0, 0, 0, 0, 0, 0, 0, 0, 0, 0, 0, 0, 0, ...  \n",
              "2       [0, 0, 0, 0, 0, 0, 0, 0, 0, 0, 0, 0, 0, 0, 0, ...  \n",
              "3       [0, 0, 0, 0, 0, 0, 0, 0, 0, 0, 0, 0, 0, 0, 0, ...  \n",
              "4       [0, 0, 0, 0, 0, 0, 0, 0, 0, 0, 0, 0, 0, 0, 0, ...  \n",
              "...                                                   ...  \n",
              "211086  [1, 0, 0, 0, 0, 0, 0, 0, 0, 0, 0, 0, 0, 0, 0, ...  \n",
              "211088  [0, 0, 0, 0, 0, 0, 0, 0, 0, 0, 0, 0, 0, 0, 0, ...  \n",
              "211094  [0, 0, 0, 0, 0, 0, 0, 0, 0, 0, 0, 0, 0, 0, 0, ...  \n",
              "211095  [0, 0, 0, 0, 0, 0, 0, 0, 0, 0, 0, 0, 0, 0, 0, ...  \n",
              "211161  [0, 0, 0, 0, 0, 0, 0, 0, 0, 0, 0, 0, 0, 0, 0, ...  \n",
              "\n",
              "[57715 rows x 2 columns]"
            ],
            "text/html": [
              "\n",
              "  <div id=\"df-ef57ef52-e140-4849-8ac3-da440f2db837\">\n",
              "    <div class=\"colab-df-container\">\n",
              "      <div>\n",
              "<style scoped>\n",
              "    .dataframe tbody tr th:only-of-type {\n",
              "        vertical-align: middle;\n",
              "    }\n",
              "\n",
              "    .dataframe tbody tr th {\n",
              "        vertical-align: top;\n",
              "    }\n",
              "\n",
              "    .dataframe thead th {\n",
              "        text-align: right;\n",
              "    }\n",
              "</style>\n",
              "<table border=\"1\" class=\"dataframe\">\n",
              "  <thead>\n",
              "    <tr style=\"text-align: right;\">\n",
              "      <th></th>\n",
              "      <th>text</th>\n",
              "      <th>labels</th>\n",
              "    </tr>\n",
              "  </thead>\n",
              "  <tbody>\n",
              "    <tr>\n",
              "      <th>0</th>\n",
              "      <td>That game hurt.</td>\n",
              "      <td>[0, 0, 0, 0, 0, 0, 0, 0, 0, 0, 0, 0, 0, 0, 0, ...</td>\n",
              "    </tr>\n",
              "    <tr>\n",
              "      <th>1</th>\n",
              "      <td>&gt;sexuality shouldn't be a grouping category I...</td>\n",
              "      <td>[0, 0, 0, 0, 0, 0, 0, 0, 0, 0, 0, 0, 0, 0, 0, ...</td>\n",
              "    </tr>\n",
              "    <tr>\n",
              "      <th>2</th>\n",
              "      <td>You do right, if you don't care then fuck 'em!</td>\n",
              "      <td>[0, 0, 0, 0, 0, 0, 0, 0, 0, 0, 0, 0, 0, 0, 0, ...</td>\n",
              "    </tr>\n",
              "    <tr>\n",
              "      <th>3</th>\n",
              "      <td>Man I love reddit.</td>\n",
              "      <td>[0, 0, 0, 0, 0, 0, 0, 0, 0, 0, 0, 0, 0, 0, 0, ...</td>\n",
              "    </tr>\n",
              "    <tr>\n",
              "      <th>4</th>\n",
              "      <td>[NAME] was nowhere near them, he was by the Fa...</td>\n",
              "      <td>[0, 0, 0, 0, 0, 0, 0, 0, 0, 0, 0, 0, 0, 0, 0, ...</td>\n",
              "    </tr>\n",
              "    <tr>\n",
              "      <th>...</th>\n",
              "      <td>...</td>\n",
              "      <td>...</td>\n",
              "    </tr>\n",
              "    <tr>\n",
              "      <th>211086</th>\n",
              "      <td>He called [NAME] to the Steelers and was outsp...</td>\n",
              "      <td>[1, 0, 0, 0, 0, 0, 0, 0, 0, 0, 0, 0, 0, 0, 0, ...</td>\n",
              "    </tr>\n",
              "    <tr>\n",
              "      <th>211088</th>\n",
              "      <td>I didn't even notice that one. I noticed the b...</td>\n",
              "      <td>[0, 0, 0, 0, 0, 0, 0, 0, 0, 0, 0, 0, 0, 0, 0, ...</td>\n",
              "    </tr>\n",
              "    <tr>\n",
              "      <th>211094</th>\n",
              "      <td>Thanks, [NAME]</td>\n",
              "      <td>[0, 0, 0, 0, 0, 0, 0, 0, 0, 0, 0, 0, 0, 0, 0, ...</td>\n",
              "    </tr>\n",
              "    <tr>\n",
              "      <th>211095</th>\n",
              "      <td>Everyone likes [NAME].</td>\n",
              "      <td>[0, 0, 0, 0, 0, 0, 0, 0, 0, 0, 0, 0, 0, 0, 0, ...</td>\n",
              "    </tr>\n",
              "    <tr>\n",
              "      <th>211161</th>\n",
              "      <td>I just called the Capitol Police. They are not...</td>\n",
              "      <td>[0, 0, 0, 0, 0, 0, 0, 0, 0, 0, 0, 0, 0, 0, 0, ...</td>\n",
              "    </tr>\n",
              "  </tbody>\n",
              "</table>\n",
              "<p>57715 rows × 2 columns</p>\n",
              "</div>\n",
              "      <button class=\"colab-df-convert\" onclick=\"convertToInteractive('df-ef57ef52-e140-4849-8ac3-da440f2db837')\"\n",
              "              title=\"Convert this dataframe to an interactive table.\"\n",
              "              style=\"display:none;\">\n",
              "        \n",
              "  <svg xmlns=\"http://www.w3.org/2000/svg\" height=\"24px\"viewBox=\"0 0 24 24\"\n",
              "       width=\"24px\">\n",
              "    <path d=\"M0 0h24v24H0V0z\" fill=\"none\"/>\n",
              "    <path d=\"M18.56 5.44l.94 2.06.94-2.06 2.06-.94-2.06-.94-.94-2.06-.94 2.06-2.06.94zm-11 1L8.5 8.5l.94-2.06 2.06-.94-2.06-.94L8.5 2.5l-.94 2.06-2.06.94zm10 10l.94 2.06.94-2.06 2.06-.94-2.06-.94-.94-2.06-.94 2.06-2.06.94z\"/><path d=\"M17.41 7.96l-1.37-1.37c-.4-.4-.92-.59-1.43-.59-.52 0-1.04.2-1.43.59L10.3 9.45l-7.72 7.72c-.78.78-.78 2.05 0 2.83L4 21.41c.39.39.9.59 1.41.59.51 0 1.02-.2 1.41-.59l7.78-7.78 2.81-2.81c.8-.78.8-2.07 0-2.86zM5.41 20L4 18.59l7.72-7.72 1.47 1.35L5.41 20z\"/>\n",
              "  </svg>\n",
              "      </button>\n",
              "      \n",
              "  <style>\n",
              "    .colab-df-container {\n",
              "      display:flex;\n",
              "      flex-wrap:wrap;\n",
              "      gap: 12px;\n",
              "    }\n",
              "\n",
              "    .colab-df-convert {\n",
              "      background-color: #E8F0FE;\n",
              "      border: none;\n",
              "      border-radius: 50%;\n",
              "      cursor: pointer;\n",
              "      display: none;\n",
              "      fill: #1967D2;\n",
              "      height: 32px;\n",
              "      padding: 0 0 0 0;\n",
              "      width: 32px;\n",
              "    }\n",
              "\n",
              "    .colab-df-convert:hover {\n",
              "      background-color: #E2EBFA;\n",
              "      box-shadow: 0px 1px 2px rgba(60, 64, 67, 0.3), 0px 1px 3px 1px rgba(60, 64, 67, 0.15);\n",
              "      fill: #174EA6;\n",
              "    }\n",
              "\n",
              "    [theme=dark] .colab-df-convert {\n",
              "      background-color: #3B4455;\n",
              "      fill: #D2E3FC;\n",
              "    }\n",
              "\n",
              "    [theme=dark] .colab-df-convert:hover {\n",
              "      background-color: #434B5C;\n",
              "      box-shadow: 0px 1px 3px 1px rgba(0, 0, 0, 0.15);\n",
              "      filter: drop-shadow(0px 1px 2px rgba(0, 0, 0, 0.3));\n",
              "      fill: #FFFFFF;\n",
              "    }\n",
              "  </style>\n",
              "\n",
              "      <script>\n",
              "        const buttonEl =\n",
              "          document.querySelector('#df-ef57ef52-e140-4849-8ac3-da440f2db837 button.colab-df-convert');\n",
              "        buttonEl.style.display =\n",
              "          google.colab.kernel.accessAllowed ? 'block' : 'none';\n",
              "\n",
              "        async function convertToInteractive(key) {\n",
              "          const element = document.querySelector('#df-ef57ef52-e140-4849-8ac3-da440f2db837');\n",
              "          const dataTable =\n",
              "            await google.colab.kernel.invokeFunction('convertToInteractive',\n",
              "                                                     [key], {});\n",
              "          if (!dataTable) return;\n",
              "\n",
              "          const docLinkHtml = 'Like what you see? Visit the ' +\n",
              "            '<a target=\"_blank\" href=https://colab.research.google.com/notebooks/data_table.ipynb>data table notebook</a>'\n",
              "            + ' to learn more about interactive tables.';\n",
              "          element.innerHTML = '';\n",
              "          dataTable['output_type'] = 'display_data';\n",
              "          await google.colab.output.renderOutput(dataTable, element);\n",
              "          const docLink = document.createElement('div');\n",
              "          docLink.innerHTML = docLinkHtml;\n",
              "          element.appendChild(docLink);\n",
              "        }\n",
              "      </script>\n",
              "    </div>\n",
              "  </div>\n",
              "  "
            ]
          },
          "metadata": {},
          "execution_count": 12
        }
      ]
    },
    {
      "cell_type": "code",
      "source": [
        "\n",
        "def isnulle(table):\n",
        "  for i in range(28):\n",
        "    if table[i]==1:\n",
        "      return False\n",
        "  return True\n",
        "     \n",
        "\n",
        "\n",
        "\n",
        "df_train_clean[\"labels\"]=df_train_clean[\"labels\"].map(lambda x: np.nan if (isnulle(x)) else x)\n",
        "        \n",
        "\n",
        "\n",
        "\n",
        "\n",
        "\n",
        "       \n",
        "    "
      ],
      "metadata": {
        "id": "O9Dmuih_5aUX"
      },
      "execution_count": 13,
      "outputs": []
    },
    {
      "cell_type": "code",
      "source": [
        "df_train_clean=df_train_clean.dropna()\n",
        "\n",
        "df_train_clean"
      ],
      "metadata": {
        "colab": {
          "base_uri": "https://localhost:8080/",
          "height": 424
        },
        "id": "Svyok5rVSEPX",
        "outputId": "4fe5c22a-a4b3-480a-b080-c331d7a1d509"
      },
      "execution_count": 14,
      "outputs": [
        {
          "output_type": "execute_result",
          "data": {
            "text/plain": [
              "                                                     text  \\\n",
              "0                                         That game hurt.   \n",
              "2          You do right, if you don't care then fuck 'em!   \n",
              "3                                      Man I love reddit.   \n",
              "4       [NAME] was nowhere near them, he was by the Fa...   \n",
              "5       Right? Considering it's such an important docu...   \n",
              "...                                                   ...   \n",
              "211086  He called [NAME] to the Steelers and was outsp...   \n",
              "211088  I didn't even notice that one. I noticed the b...   \n",
              "211094                                     Thanks, [NAME]   \n",
              "211095                             Everyone likes [NAME].   \n",
              "211161  I just called the Capitol Police. They are not...   \n",
              "\n",
              "                                                   labels  \n",
              "0       [0, 0, 0, 0, 0, 0, 0, 0, 0, 0, 0, 0, 0, 0, 0, ...  \n",
              "2       [0, 0, 0, 0, 0, 0, 0, 0, 0, 0, 0, 0, 0, 0, 0, ...  \n",
              "3       [0, 0, 0, 0, 0, 0, 0, 0, 0, 0, 0, 0, 0, 0, 0, ...  \n",
              "4       [0, 0, 0, 0, 0, 0, 0, 0, 0, 0, 0, 0, 0, 0, 0, ...  \n",
              "5       [0, 0, 0, 0, 0, 0, 0, 0, 0, 0, 0, 0, 0, 0, 0, ...  \n",
              "...                                                   ...  \n",
              "211086  [1, 0, 0, 0, 0, 0, 0, 0, 0, 0, 0, 0, 0, 0, 0, ...  \n",
              "211088  [0, 0, 0, 0, 0, 0, 0, 0, 0, 0, 0, 0, 0, 0, 0, ...  \n",
              "211094  [0, 0, 0, 0, 0, 0, 0, 0, 0, 0, 0, 0, 0, 0, 0, ...  \n",
              "211095  [0, 0, 0, 0, 0, 0, 0, 0, 0, 0, 0, 0, 0, 0, 0, ...  \n",
              "211161  [0, 0, 0, 0, 0, 0, 0, 0, 0, 0, 0, 0, 0, 0, 0, ...  \n",
              "\n",
              "[56872 rows x 2 columns]"
            ],
            "text/html": [
              "\n",
              "  <div id=\"df-b9735bd7-b159-4dd3-9266-9521b8fd1786\">\n",
              "    <div class=\"colab-df-container\">\n",
              "      <div>\n",
              "<style scoped>\n",
              "    .dataframe tbody tr th:only-of-type {\n",
              "        vertical-align: middle;\n",
              "    }\n",
              "\n",
              "    .dataframe tbody tr th {\n",
              "        vertical-align: top;\n",
              "    }\n",
              "\n",
              "    .dataframe thead th {\n",
              "        text-align: right;\n",
              "    }\n",
              "</style>\n",
              "<table border=\"1\" class=\"dataframe\">\n",
              "  <thead>\n",
              "    <tr style=\"text-align: right;\">\n",
              "      <th></th>\n",
              "      <th>text</th>\n",
              "      <th>labels</th>\n",
              "    </tr>\n",
              "  </thead>\n",
              "  <tbody>\n",
              "    <tr>\n",
              "      <th>0</th>\n",
              "      <td>That game hurt.</td>\n",
              "      <td>[0, 0, 0, 0, 0, 0, 0, 0, 0, 0, 0, 0, 0, 0, 0, ...</td>\n",
              "    </tr>\n",
              "    <tr>\n",
              "      <th>2</th>\n",
              "      <td>You do right, if you don't care then fuck 'em!</td>\n",
              "      <td>[0, 0, 0, 0, 0, 0, 0, 0, 0, 0, 0, 0, 0, 0, 0, ...</td>\n",
              "    </tr>\n",
              "    <tr>\n",
              "      <th>3</th>\n",
              "      <td>Man I love reddit.</td>\n",
              "      <td>[0, 0, 0, 0, 0, 0, 0, 0, 0, 0, 0, 0, 0, 0, 0, ...</td>\n",
              "    </tr>\n",
              "    <tr>\n",
              "      <th>4</th>\n",
              "      <td>[NAME] was nowhere near them, he was by the Fa...</td>\n",
              "      <td>[0, 0, 0, 0, 0, 0, 0, 0, 0, 0, 0, 0, 0, 0, 0, ...</td>\n",
              "    </tr>\n",
              "    <tr>\n",
              "      <th>5</th>\n",
              "      <td>Right? Considering it's such an important docu...</td>\n",
              "      <td>[0, 0, 0, 0, 0, 0, 0, 0, 0, 0, 0, 0, 0, 0, 0, ...</td>\n",
              "    </tr>\n",
              "    <tr>\n",
              "      <th>...</th>\n",
              "      <td>...</td>\n",
              "      <td>...</td>\n",
              "    </tr>\n",
              "    <tr>\n",
              "      <th>211086</th>\n",
              "      <td>He called [NAME] to the Steelers and was outsp...</td>\n",
              "      <td>[1, 0, 0, 0, 0, 0, 0, 0, 0, 0, 0, 0, 0, 0, 0, ...</td>\n",
              "    </tr>\n",
              "    <tr>\n",
              "      <th>211088</th>\n",
              "      <td>I didn't even notice that one. I noticed the b...</td>\n",
              "      <td>[0, 0, 0, 0, 0, 0, 0, 0, 0, 0, 0, 0, 0, 0, 0, ...</td>\n",
              "    </tr>\n",
              "    <tr>\n",
              "      <th>211094</th>\n",
              "      <td>Thanks, [NAME]</td>\n",
              "      <td>[0, 0, 0, 0, 0, 0, 0, 0, 0, 0, 0, 0, 0, 0, 0, ...</td>\n",
              "    </tr>\n",
              "    <tr>\n",
              "      <th>211095</th>\n",
              "      <td>Everyone likes [NAME].</td>\n",
              "      <td>[0, 0, 0, 0, 0, 0, 0, 0, 0, 0, 0, 0, 0, 0, 0, ...</td>\n",
              "    </tr>\n",
              "    <tr>\n",
              "      <th>211161</th>\n",
              "      <td>I just called the Capitol Police. They are not...</td>\n",
              "      <td>[0, 0, 0, 0, 0, 0, 0, 0, 0, 0, 0, 0, 0, 0, 0, ...</td>\n",
              "    </tr>\n",
              "  </tbody>\n",
              "</table>\n",
              "<p>56872 rows × 2 columns</p>\n",
              "</div>\n",
              "      <button class=\"colab-df-convert\" onclick=\"convertToInteractive('df-b9735bd7-b159-4dd3-9266-9521b8fd1786')\"\n",
              "              title=\"Convert this dataframe to an interactive table.\"\n",
              "              style=\"display:none;\">\n",
              "        \n",
              "  <svg xmlns=\"http://www.w3.org/2000/svg\" height=\"24px\"viewBox=\"0 0 24 24\"\n",
              "       width=\"24px\">\n",
              "    <path d=\"M0 0h24v24H0V0z\" fill=\"none\"/>\n",
              "    <path d=\"M18.56 5.44l.94 2.06.94-2.06 2.06-.94-2.06-.94-.94-2.06-.94 2.06-2.06.94zm-11 1L8.5 8.5l.94-2.06 2.06-.94-2.06-.94L8.5 2.5l-.94 2.06-2.06.94zm10 10l.94 2.06.94-2.06 2.06-.94-2.06-.94-.94-2.06-.94 2.06-2.06.94z\"/><path d=\"M17.41 7.96l-1.37-1.37c-.4-.4-.92-.59-1.43-.59-.52 0-1.04.2-1.43.59L10.3 9.45l-7.72 7.72c-.78.78-.78 2.05 0 2.83L4 21.41c.39.39.9.59 1.41.59.51 0 1.02-.2 1.41-.59l7.78-7.78 2.81-2.81c.8-.78.8-2.07 0-2.86zM5.41 20L4 18.59l7.72-7.72 1.47 1.35L5.41 20z\"/>\n",
              "  </svg>\n",
              "      </button>\n",
              "      \n",
              "  <style>\n",
              "    .colab-df-container {\n",
              "      display:flex;\n",
              "      flex-wrap:wrap;\n",
              "      gap: 12px;\n",
              "    }\n",
              "\n",
              "    .colab-df-convert {\n",
              "      background-color: #E8F0FE;\n",
              "      border: none;\n",
              "      border-radius: 50%;\n",
              "      cursor: pointer;\n",
              "      display: none;\n",
              "      fill: #1967D2;\n",
              "      height: 32px;\n",
              "      padding: 0 0 0 0;\n",
              "      width: 32px;\n",
              "    }\n",
              "\n",
              "    .colab-df-convert:hover {\n",
              "      background-color: #E2EBFA;\n",
              "      box-shadow: 0px 1px 2px rgba(60, 64, 67, 0.3), 0px 1px 3px 1px rgba(60, 64, 67, 0.15);\n",
              "      fill: #174EA6;\n",
              "    }\n",
              "\n",
              "    [theme=dark] .colab-df-convert {\n",
              "      background-color: #3B4455;\n",
              "      fill: #D2E3FC;\n",
              "    }\n",
              "\n",
              "    [theme=dark] .colab-df-convert:hover {\n",
              "      background-color: #434B5C;\n",
              "      box-shadow: 0px 1px 3px 1px rgba(0, 0, 0, 0.15);\n",
              "      filter: drop-shadow(0px 1px 2px rgba(0, 0, 0, 0.3));\n",
              "      fill: #FFFFFF;\n",
              "    }\n",
              "  </style>\n",
              "\n",
              "      <script>\n",
              "        const buttonEl =\n",
              "          document.querySelector('#df-b9735bd7-b159-4dd3-9266-9521b8fd1786 button.colab-df-convert');\n",
              "        buttonEl.style.display =\n",
              "          google.colab.kernel.accessAllowed ? 'block' : 'none';\n",
              "\n",
              "        async function convertToInteractive(key) {\n",
              "          const element = document.querySelector('#df-b9735bd7-b159-4dd3-9266-9521b8fd1786');\n",
              "          const dataTable =\n",
              "            await google.colab.kernel.invokeFunction('convertToInteractive',\n",
              "                                                     [key], {});\n",
              "          if (!dataTable) return;\n",
              "\n",
              "          const docLinkHtml = 'Like what you see? Visit the ' +\n",
              "            '<a target=\"_blank\" href=https://colab.research.google.com/notebooks/data_table.ipynb>data table notebook</a>'\n",
              "            + ' to learn more about interactive tables.';\n",
              "          element.innerHTML = '';\n",
              "          dataTable['output_type'] = 'display_data';\n",
              "          await google.colab.output.renderOutput(dataTable, element);\n",
              "          const docLink = document.createElement('div');\n",
              "          docLink.innerHTML = docLinkHtml;\n",
              "          element.appendChild(docLink);\n",
              "        }\n",
              "      </script>\n",
              "    </div>\n",
              "  </div>\n",
              "  "
            ]
          },
          "metadata": {},
          "execution_count": 14
        }
      ]
    },
    {
      "cell_type": "code",
      "source": [
        "def decode_emotion(table):\n",
        "  return table.index(1)\n",
        "\n",
        "decode_emotion(df_train_clean[\"labels\"][0])"
      ],
      "metadata": {
        "colab": {
          "base_uri": "https://localhost:8080/"
        },
        "id": "5oOLx5K3cQuD",
        "outputId": "f4ab3eff-d6fd-4530-e43c-4d946ed69e33"
      },
      "execution_count": 15,
      "outputs": [
        {
          "output_type": "execute_result",
          "data": {
            "text/plain": [
              "25"
            ]
          },
          "metadata": {},
          "execution_count": 15
        }
      ]
    },
    {
      "cell_type": "code",
      "source": [
        "\n",
        "  df_train_clean[\"index_label\"]=df_train_clean[\"labels\"].map(lambda x: decode_emotion(x))\n",
        "  df_train_clean\n"
      ],
      "metadata": {
        "colab": {
          "base_uri": "https://localhost:8080/",
          "height": 592
        },
        "id": "3NSMdYgNbTmX",
        "outputId": "73ff4610-96b9-4e40-b06b-aac6e7a76d34"
      },
      "execution_count": 16,
      "outputs": [
        {
          "output_type": "stream",
          "name": "stderr",
          "text": [
            "<ipython-input-16-bd60b32efae2>:1: SettingWithCopyWarning: \n",
            "A value is trying to be set on a copy of a slice from a DataFrame.\n",
            "Try using .loc[row_indexer,col_indexer] = value instead\n",
            "\n",
            "See the caveats in the documentation: https://pandas.pydata.org/pandas-docs/stable/user_guide/indexing.html#returning-a-view-versus-a-copy\n",
            "  df_train_clean[\"index_label\"]=df_train_clean[\"labels\"].map(lambda x: decode_emotion(x))\n"
          ]
        },
        {
          "output_type": "execute_result",
          "data": {
            "text/plain": [
              "                                                     text  \\\n",
              "0                                         That game hurt.   \n",
              "2          You do right, if you don't care then fuck 'em!   \n",
              "3                                      Man I love reddit.   \n",
              "4       [NAME] was nowhere near them, he was by the Fa...   \n",
              "5       Right? Considering it's such an important docu...   \n",
              "...                                                   ...   \n",
              "211086  He called [NAME] to the Steelers and was outsp...   \n",
              "211088  I didn't even notice that one. I noticed the b...   \n",
              "211094                                     Thanks, [NAME]   \n",
              "211095                             Everyone likes [NAME].   \n",
              "211161  I just called the Capitol Police. They are not...   \n",
              "\n",
              "                                                   labels  index_label  \n",
              "0       [0, 0, 0, 0, 0, 0, 0, 0, 0, 0, 0, 0, 0, 0, 0, ...           25  \n",
              "2       [0, 0, 0, 0, 0, 0, 0, 0, 0, 0, 0, 0, 0, 0, 0, ...           27  \n",
              "3       [0, 0, 0, 0, 0, 0, 0, 0, 0, 0, 0, 0, 0, 0, 0, ...           18  \n",
              "4       [0, 0, 0, 0, 0, 0, 0, 0, 0, 0, 0, 0, 0, 0, 0, ...           27  \n",
              "5       [0, 0, 0, 0, 0, 0, 0, 0, 0, 0, 0, 0, 0, 0, 0, ...           15  \n",
              "...                                                   ...          ...  \n",
              "211086  [1, 0, 0, 0, 0, 0, 0, 0, 0, 0, 0, 0, 0, 0, 0, ...            0  \n",
              "211088  [0, 0, 0, 0, 0, 0, 0, 0, 0, 0, 0, 0, 0, 0, 0, ...           27  \n",
              "211094  [0, 0, 0, 0, 0, 0, 0, 0, 0, 0, 0, 0, 0, 0, 0, ...           15  \n",
              "211095  [0, 0, 0, 0, 0, 0, 0, 0, 0, 0, 0, 0, 0, 0, 0, ...           18  \n",
              "211161  [0, 0, 0, 0, 0, 0, 0, 0, 0, 0, 0, 0, 0, 0, 0, ...           23  \n",
              "\n",
              "[56872 rows x 3 columns]"
            ],
            "text/html": [
              "\n",
              "  <div id=\"df-9162e656-6b26-468a-8905-031fb27ec024\">\n",
              "    <div class=\"colab-df-container\">\n",
              "      <div>\n",
              "<style scoped>\n",
              "    .dataframe tbody tr th:only-of-type {\n",
              "        vertical-align: middle;\n",
              "    }\n",
              "\n",
              "    .dataframe tbody tr th {\n",
              "        vertical-align: top;\n",
              "    }\n",
              "\n",
              "    .dataframe thead th {\n",
              "        text-align: right;\n",
              "    }\n",
              "</style>\n",
              "<table border=\"1\" class=\"dataframe\">\n",
              "  <thead>\n",
              "    <tr style=\"text-align: right;\">\n",
              "      <th></th>\n",
              "      <th>text</th>\n",
              "      <th>labels</th>\n",
              "      <th>index_label</th>\n",
              "    </tr>\n",
              "  </thead>\n",
              "  <tbody>\n",
              "    <tr>\n",
              "      <th>0</th>\n",
              "      <td>That game hurt.</td>\n",
              "      <td>[0, 0, 0, 0, 0, 0, 0, 0, 0, 0, 0, 0, 0, 0, 0, ...</td>\n",
              "      <td>25</td>\n",
              "    </tr>\n",
              "    <tr>\n",
              "      <th>2</th>\n",
              "      <td>You do right, if you don't care then fuck 'em!</td>\n",
              "      <td>[0, 0, 0, 0, 0, 0, 0, 0, 0, 0, 0, 0, 0, 0, 0, ...</td>\n",
              "      <td>27</td>\n",
              "    </tr>\n",
              "    <tr>\n",
              "      <th>3</th>\n",
              "      <td>Man I love reddit.</td>\n",
              "      <td>[0, 0, 0, 0, 0, 0, 0, 0, 0, 0, 0, 0, 0, 0, 0, ...</td>\n",
              "      <td>18</td>\n",
              "    </tr>\n",
              "    <tr>\n",
              "      <th>4</th>\n",
              "      <td>[NAME] was nowhere near them, he was by the Fa...</td>\n",
              "      <td>[0, 0, 0, 0, 0, 0, 0, 0, 0, 0, 0, 0, 0, 0, 0, ...</td>\n",
              "      <td>27</td>\n",
              "    </tr>\n",
              "    <tr>\n",
              "      <th>5</th>\n",
              "      <td>Right? Considering it's such an important docu...</td>\n",
              "      <td>[0, 0, 0, 0, 0, 0, 0, 0, 0, 0, 0, 0, 0, 0, 0, ...</td>\n",
              "      <td>15</td>\n",
              "    </tr>\n",
              "    <tr>\n",
              "      <th>...</th>\n",
              "      <td>...</td>\n",
              "      <td>...</td>\n",
              "      <td>...</td>\n",
              "    </tr>\n",
              "    <tr>\n",
              "      <th>211086</th>\n",
              "      <td>He called [NAME] to the Steelers and was outsp...</td>\n",
              "      <td>[1, 0, 0, 0, 0, 0, 0, 0, 0, 0, 0, 0, 0, 0, 0, ...</td>\n",
              "      <td>0</td>\n",
              "    </tr>\n",
              "    <tr>\n",
              "      <th>211088</th>\n",
              "      <td>I didn't even notice that one. I noticed the b...</td>\n",
              "      <td>[0, 0, 0, 0, 0, 0, 0, 0, 0, 0, 0, 0, 0, 0, 0, ...</td>\n",
              "      <td>27</td>\n",
              "    </tr>\n",
              "    <tr>\n",
              "      <th>211094</th>\n",
              "      <td>Thanks, [NAME]</td>\n",
              "      <td>[0, 0, 0, 0, 0, 0, 0, 0, 0, 0, 0, 0, 0, 0, 0, ...</td>\n",
              "      <td>15</td>\n",
              "    </tr>\n",
              "    <tr>\n",
              "      <th>211095</th>\n",
              "      <td>Everyone likes [NAME].</td>\n",
              "      <td>[0, 0, 0, 0, 0, 0, 0, 0, 0, 0, 0, 0, 0, 0, 0, ...</td>\n",
              "      <td>18</td>\n",
              "    </tr>\n",
              "    <tr>\n",
              "      <th>211161</th>\n",
              "      <td>I just called the Capitol Police. They are not...</td>\n",
              "      <td>[0, 0, 0, 0, 0, 0, 0, 0, 0, 0, 0, 0, 0, 0, 0, ...</td>\n",
              "      <td>23</td>\n",
              "    </tr>\n",
              "  </tbody>\n",
              "</table>\n",
              "<p>56872 rows × 3 columns</p>\n",
              "</div>\n",
              "      <button class=\"colab-df-convert\" onclick=\"convertToInteractive('df-9162e656-6b26-468a-8905-031fb27ec024')\"\n",
              "              title=\"Convert this dataframe to an interactive table.\"\n",
              "              style=\"display:none;\">\n",
              "        \n",
              "  <svg xmlns=\"http://www.w3.org/2000/svg\" height=\"24px\"viewBox=\"0 0 24 24\"\n",
              "       width=\"24px\">\n",
              "    <path d=\"M0 0h24v24H0V0z\" fill=\"none\"/>\n",
              "    <path d=\"M18.56 5.44l.94 2.06.94-2.06 2.06-.94-2.06-.94-.94-2.06-.94 2.06-2.06.94zm-11 1L8.5 8.5l.94-2.06 2.06-.94-2.06-.94L8.5 2.5l-.94 2.06-2.06.94zm10 10l.94 2.06.94-2.06 2.06-.94-2.06-.94-.94-2.06-.94 2.06-2.06.94z\"/><path d=\"M17.41 7.96l-1.37-1.37c-.4-.4-.92-.59-1.43-.59-.52 0-1.04.2-1.43.59L10.3 9.45l-7.72 7.72c-.78.78-.78 2.05 0 2.83L4 21.41c.39.39.9.59 1.41.59.51 0 1.02-.2 1.41-.59l7.78-7.78 2.81-2.81c.8-.78.8-2.07 0-2.86zM5.41 20L4 18.59l7.72-7.72 1.47 1.35L5.41 20z\"/>\n",
              "  </svg>\n",
              "      </button>\n",
              "      \n",
              "  <style>\n",
              "    .colab-df-container {\n",
              "      display:flex;\n",
              "      flex-wrap:wrap;\n",
              "      gap: 12px;\n",
              "    }\n",
              "\n",
              "    .colab-df-convert {\n",
              "      background-color: #E8F0FE;\n",
              "      border: none;\n",
              "      border-radius: 50%;\n",
              "      cursor: pointer;\n",
              "      display: none;\n",
              "      fill: #1967D2;\n",
              "      height: 32px;\n",
              "      padding: 0 0 0 0;\n",
              "      width: 32px;\n",
              "    }\n",
              "\n",
              "    .colab-df-convert:hover {\n",
              "      background-color: #E2EBFA;\n",
              "      box-shadow: 0px 1px 2px rgba(60, 64, 67, 0.3), 0px 1px 3px 1px rgba(60, 64, 67, 0.15);\n",
              "      fill: #174EA6;\n",
              "    }\n",
              "\n",
              "    [theme=dark] .colab-df-convert {\n",
              "      background-color: #3B4455;\n",
              "      fill: #D2E3FC;\n",
              "    }\n",
              "\n",
              "    [theme=dark] .colab-df-convert:hover {\n",
              "      background-color: #434B5C;\n",
              "      box-shadow: 0px 1px 3px 1px rgba(0, 0, 0, 0.15);\n",
              "      filter: drop-shadow(0px 1px 2px rgba(0, 0, 0, 0.3));\n",
              "      fill: #FFFFFF;\n",
              "    }\n",
              "  </style>\n",
              "\n",
              "      <script>\n",
              "        const buttonEl =\n",
              "          document.querySelector('#df-9162e656-6b26-468a-8905-031fb27ec024 button.colab-df-convert');\n",
              "        buttonEl.style.display =\n",
              "          google.colab.kernel.accessAllowed ? 'block' : 'none';\n",
              "\n",
              "        async function convertToInteractive(key) {\n",
              "          const element = document.querySelector('#df-9162e656-6b26-468a-8905-031fb27ec024');\n",
              "          const dataTable =\n",
              "            await google.colab.kernel.invokeFunction('convertToInteractive',\n",
              "                                                     [key], {});\n",
              "          if (!dataTable) return;\n",
              "\n",
              "          const docLinkHtml = 'Like what you see? Visit the ' +\n",
              "            '<a target=\"_blank\" href=https://colab.research.google.com/notebooks/data_table.ipynb>data table notebook</a>'\n",
              "            + ' to learn more about interactive tables.';\n",
              "          element.innerHTML = '';\n",
              "          dataTable['output_type'] = 'display_data';\n",
              "          await google.colab.output.renderOutput(dataTable, element);\n",
              "          const docLink = document.createElement('div');\n",
              "          docLink.innerHTML = docLinkHtml;\n",
              "          element.appendChild(docLink);\n",
              "        }\n",
              "      </script>\n",
              "    </div>\n",
              "  </div>\n",
              "  "
            ]
          },
          "metadata": {},
          "execution_count": 16
        }
      ]
    },
    {
      "cell_type": "markdown",
      "source": [
        "So we know that our dataset has more of some emotion than other. So we are conscious that can be a kins of bias. "
      ],
      "metadata": {
        "id": "GN6HcpUOTKaJ"
      }
    },
    {
      "cell_type": "code",
      "source": [
        "df_train_clean[\"index_label\"].value_counts()[:20].plot(kind= 'bar')"
      ],
      "metadata": {
        "colab": {
          "base_uri": "https://localhost:8080/",
          "height": 286
        },
        "id": "eO3CNYcQS6Dk",
        "outputId": "a2151c21-c9d5-47d9-d59a-dd4931848568"
      },
      "execution_count": 17,
      "outputs": [
        {
          "output_type": "execute_result",
          "data": {
            "text/plain": [
              "<matplotlib.axes._subplots.AxesSubplot at 0x7f827cf1d3a0>"
            ]
          },
          "metadata": {},
          "execution_count": 17
        },
        {
          "output_type": "display_data",
          "data": {
            "text/plain": [
              "<Figure size 432x288 with 1 Axes>"
            ],
            "image/png": "[encoded data removed]"
          },
          "metadata": {
            "needs_background": "light"
          }
        }
      ]
    },
    {
      "cell_type": "code",
      "source": [
        "len(df_train_clean[\"labels\"])"
      ],
      "metadata": {
        "colab": {
          "base_uri": "https://localhost:8080/"
        },
        "id": "y1-9v_ZgczWF",
        "outputId": "504ec9a7-feca-4c7d-b6a9-c93d0db772d0"
      },
      "execution_count": 18,
      "outputs": [
        {
          "output_type": "execute_result",
          "data": {
            "text/plain": [
              "56872"
            ]
          },
          "metadata": {},
          "execution_count": 18
        }
      ]
    },
    {
      "cell_type": "markdown",
      "source": [
        "###Split the data set into train and test set \n"
      ],
      "metadata": {
        "id": "AZsy9tQkTlUQ"
      }
    },
    {
      "cell_type": "code",
      "source": [
        "from sklearn.model_selection import train_test_split\n",
        "\n",
        "val_set=df_train_clean[:5000].reset_index()\n",
        "traintest=df_train_clean[:42654].reset_index()\n",
        "train=df_train_clean[5000:39537].reset_index()\n",
        "target=df_train_clean[\"labels\"][5000:39537].reset_index()\n",
        "test=df_train_clean[39537:].reset_index()\n",
        "X_train, X_test, y_train, y_test = train_test_split(train['text'], train['labels'], test_size=0.33, random_state=42)\n"
      ],
      "metadata": {
        "id": "_pG3qu8qNnC1"
      },
      "execution_count": 19,
      "outputs": []
    },
    {
      "cell_type": "code",
      "source": [
        "train[\"index_label\"].value_counts()[:20].plot(kind= 'bar')"
      ],
      "metadata": {
        "colab": {
          "base_uri": "https://localhost:8080/",
          "height": 285
        },
        "id": "2Frc-D83yLvE",
        "outputId": "8ced8a61-7d35-4674-808c-88ff0d85e83d"
      },
      "execution_count": 22,
      "outputs": [
        {
          "output_type": "execute_result",
          "data": {
            "text/plain": [
              "<matplotlib.axes._subplots.AxesSubplot at 0x7f827da285e0>"
            ]
          },
          "metadata": {},
          "execution_count": 22
        },
        {
          "output_type": "display_data",
          "data": {
            "text/plain": [
              "<Figure size 432x288 with 1 Axes>"
            ],
            "image/png": "[encoded data removed]"
          },
          "metadata": {
            "needs_background": "light"
          }
        }
      ]
    },
    {
      "cell_type": "markdown",
      "source": [
        "### Creating a TF dataset\n",
        "\n",
        "The current dataset object is not in the format recognized by TensorFlow.\n",
        "The `datasets` library provides a method to convert individual samples to the tensorflow format:"
      ],
      "metadata": {
        "id": "_-SBv2cfU-ED"
      }
    },
    {
      "cell_type": "code",
      "source": [
        "SEED=32\n",
        "BATCH_SIZE=32\n",
        "\n",
        "import tensorflow_datasets as tfds\n",
        "tf.keras.utils.set_random_seed(SEED)\n",
        "from datasets import Dataset     \n",
        "tf_dataset = Dataset.from_pandas(train)\n",
        "#tf_dataset = df_train_clean.to_numpy()\n",
        "train_tf = tf_dataset .to_tf_dataset(\n",
        "            columns=[\"text\"],\n",
        "            label_cols=[\"labels\"],\n",
        "            batch_size=BATCH_SIZE,\n",
        "            shuffle=True\n",
        "            )\n",
        "\n",
        "tf_dataset = Dataset.from_pandas(test)\n",
        "#tf_dataset = df_train_clean.to_numpy()\n",
        "test_tf = tf_dataset .to_tf_dataset(\n",
        "            columns=[\"text\"],\n",
        "            label_cols=[\"labels\"],\n",
        "            batch_size=BATCH_SIZE,\n",
        "            shuffle=True\n",
        "            )\n",
        "\n",
        "tf_val = Dataset.from_pandas(val_set)\n",
        "#tf_dataset = df_train_clean.to_numpy()\n",
        "val_tf = tf_val.to_tf_dataset(\n",
        "            columns=[\"text\"],\n",
        "            label_cols=[\"labels\"],\n",
        "            batch_size=BATCH_SIZE,\n",
        "            shuffle=True\n",
        "            )\n",
        "\n",
        "\n"
      ],
      "metadata": {
        "id": "7ZP9Se2oWXAv"
      },
      "execution_count": 23,
      "outputs": []
    },
    {
      "cell_type": "code",
      "source": [
        "train_tf.cardinality()"
      ],
      "metadata": {
        "id": "_XaEkYScgg8R"
      },
      "execution_count": null,
      "outputs": []
    },
    {
      "cell_type": "code",
      "source": [
        "val_tf.cardinality()\n"
      ],
      "metadata": {
        "id": "wLWT1quzdDhf"
      },
      "execution_count": null,
      "outputs": []
    },
    {
      "cell_type": "markdown",
      "source": [
        "#Lets Build our first Model\n",
        "## Text classification with RNNs\n",
        "\n",
        "As it is a sentence I see a similitude with our lab with moovie critisme but this time we have mutliple labels "
      ],
      "metadata": {
        "id": "0HWaRxx8VCwe"
      }
    },
    {
      "cell_type": "markdown",
      "source": [
        "## Text encoding layers\n",
        "### Text vectorization"
      ],
      "metadata": {
        "id": "1colDNjBiclr"
      }
    },
    {
      "cell_type": "markdown",
      "source": [
        "####Creating and fitting the vectorizer\n",
        "\n",
        "First we create the layer, with default parameters. We need to inform an upper limit to the vocabulary size, using the keyword argument `max_tokens`:"
      ],
      "metadata": {
        "id": "F23uOGosiPS9"
      }
    },
    {
      "cell_type": "code",
      "source": [
        "VOCAB_SIZE = 1000\n",
        "# set the max_tokens argument to VOCAB_SIZE\n",
        "encoder = tf.keras.layers.TextVectorization(\n",
        "     max_tokens=VOCAB_SIZE\n",
        "    )\n",
        "\n",
        "encoder"
      ],
      "metadata": {
        "colab": {
          "base_uri": "https://localhost:8080/"
        },
        "id": "2z2l14poiIzR",
        "outputId": "02a2c833-b62c-41e7-d02a-90274a7f9cb7"
      },
      "execution_count": 49,
      "outputs": [
        {
          "output_type": "execute_result",
          "data": {
            "text/plain": [
              "<keras.layers.preprocessing.text_vectorization.TextVectorization at 0x7f81fe512a60>"
            ]
          },
          "metadata": {},
          "execution_count": 49
        }
      ]
    },
    {
      "cell_type": "markdown",
      "source": [],
      "metadata": {
        "id": "yBbjC4z9zTe_"
      }
    },
    {
      "cell_type": "markdown",
      "source": [
        "This encoder is fitted in an unsupervised manner: we only use the texts, not the labels. Moreover, this encoder needs to be fully fitted prior to training of any subsequent NN models (since it defines the vector space on which NN models will work). In keras, this type of training uses a different method: .adapt (instead of fit)."
      ],
      "metadata": {
        "id": "OI0ItntAi0ff"
      }
    },
    {
      "cell_type": "code",
      "source": [
        "train_tf_txt = train_tf.map(lambda text, label: text)\n",
        "encoder.adapt(train_tf_txt)"
      ],
      "metadata": {
        "id": "z3H0QItGirxJ"
      },
      "execution_count": 50,
      "outputs": []
    },
    {
      "cell_type": "code",
      "source": [
        "vocab = np.array(encoder.get_vocabulary())\n",
        "len(vocab)"
      ],
      "metadata": {
        "colab": {
          "base_uri": "https://localhost:8080/"
        },
        "id": "O0xsRbeyjEfp",
        "outputId": "f7e36518-f5da-45c1-a73c-a1d537697414"
      },
      "execution_count": 51,
      "outputs": [
        {
          "output_type": "execute_result",
          "data": {
            "text/plain": [
              "1000"
            ]
          },
          "metadata": {},
          "execution_count": 51
        }
      ]
    },
    {
      "cell_type": "code",
      "source": [],
      "metadata": {
        "id": "O6RZ5aGQYs1s"
      },
      "execution_count": null,
      "outputs": []
    },
    {
      "cell_type": "markdown",
      "source": [
        "### Word embedding\n",
        "An embedding layer stores one vector per word. When called, it converts the sequences of word indices to sequences of vectors.\n"
      ],
      "metadata": {
        "id": "s0kGnlDNjkw_"
      }
    },
    {
      "cell_type": "code",
      "source": [
        "# set seed for reproducibility\n",
        "tf.keras.utils.set_random_seed(SEED)\n",
        "\n",
        "# TODO check the documentation and complete the call\n",
        "embedding = tf.keras.layers.Embedding(\n",
        "      input_dim=len(vocab),    # set the input dimension to be the length of the encoder vocabulary   \n",
        "      output_dim=64,\n",
        "        # Use masking to handle the variable sequence lengths\n",
        "        mask_zero=True)"
      ],
      "metadata": {
        "id": "3pCcrXiCWlsa"
      },
      "execution_count": 52,
      "outputs": []
    },
    {
      "cell_type": "code",
      "source": [
        "print(embedding.supports_masking)"
      ],
      "metadata": {
        "colab": {
          "base_uri": "https://localhost:8080/"
        },
        "id": "ugeGwx3FdPVi",
        "outputId": "b0387cfd-0f52-4b35-b421-6016bd89d32b"
      },
      "execution_count": 29,
      "outputs": [
        {
          "output_type": "stream",
          "name": "stdout",
          "text": [
            "True\n"
          ]
        }
      ]
    },
    {
      "cell_type": "markdown",
      "source": [
        "##LSTM Model\n",
        "###Creating the layer\n",
        "The code bellow creates a [`tf.keras.Embedding`](https://www.tensorflow.org/api_docs/python/tf/keras/layers/Embedding) layer that represents words with 64-dimensional vectors (as set via the argument `output_dim`):"
      ],
      "metadata": {
        "id": "9YPAUb-WcglX"
      }
    },
    {
      "cell_type": "code",
      "source": [
        "# set seed for reproducibility\n",
        "tf.keras.utils.set_random_seed(SEED)\n",
        "\n",
        "# TODO complete the call bellow\n",
        "model = tf.keras.Sequential([\n",
        "    # We reuse the encoder and embedding layers previously created\n",
        "    encoder,\n",
        "    embedding,\n",
        "    # TODO add a bidirectional LSTM layer with 64 units\n",
        "    tf.keras.layers.Bidirectional( tf.keras.layers.LSTM(64)),\n",
        "    # TODO add a dense layer with 64 units and relu activation\n",
        "    #tf.keras.layers.Dense(128,activation='relu'),\n",
        "    #f.keras.layers.Dropout(0.5),\n",
        "    #tf.keras.layers.Dense(64,activation='relu'),\n",
        "    #tf.keras.layers.Dropout(0.5),\n",
        "    # TODO add an output layer\n",
        "    tf.keras.layers.Dense(28)\n",
        "])\n",
        "\n"
      ],
      "metadata": {
        "id": "HzGODez6dP4Y"
      },
      "execution_count": 148,
      "outputs": []
    },
    {
      "cell_type": "code",
      "source": [
        "def max_len(x):\n",
        "    a=x.split()\n",
        "    return len(a)\n",
        "\n",
        "max(df_train_clean['text'].apply(max_len))"
      ],
      "metadata": {
        "colab": {
          "base_uri": "https://localhost:8080/"
        },
        "id": "tjoaVhu_5kre",
        "outputId": "ae2e8022-fb81-484d-89d5-3f4f24f52c38"
      },
      "execution_count": 149,
      "outputs": [
        {
          "output_type": "execute_result",
          "data": {
            "text/plain": [
              "68"
            ]
          },
          "metadata": {},
          "execution_count": 149
        }
      ]
    },
    {
      "cell_type": "code",
      "source": [
        "# dictionary to keep history output from fit calls\n",
        "logs = {}\n",
        "\n",
        "# directory in which model checkpoints and logs are saved\n",
        "LOG_DIR = 'logs'\n",
        "\n",
        "def best_model_path(model_name):\n",
        "    base_dir  = os.path.join(LOG_DIR, model_name)\n",
        "    return os.path.join(base_dir, 'best_val_accuracy.ckpt')\n",
        "\n",
        "def callback_list(model_name):\n",
        "    base_dir  = os.path.join(LOG_DIR, model_name)\n",
        "    tb_cb = tf.keras.callbacks.TensorBoard(base_dir)\n",
        "    ckpt = tf.keras.callbacks.ModelCheckpoint(\n",
        "         best_model_path(model_name),\n",
        "         monitor='val_accuracy',\n",
        "         mode='max', \n",
        "         verbose=0,\n",
        "         save_best_only=True)\n",
        "    backup_dir = os.path.join(base_dir, 'backup_checkpoint')\n",
        "    bkp = tf.keras.callbacks.BackupAndRestore(\n",
        "        backup_dir)\n",
        "    return [tb_cb, ckpt, bkp]"
      ],
      "metadata": {
        "id": "WH07uH9OkJtY"
      },
      "execution_count": 150,
      "outputs": []
    },
    {
      "cell_type": "code",
      "source": [
        "\n",
        "model.compile(optimizer='sgd', loss=tf.keras.losses.BinaryCrossentropy(\n",
        "    from_logits=True\n",
        "), metrics=\"accuracy\")\n"
      ],
      "metadata": {
        "id": "an7Z65kj1Agf"
      },
      "execution_count": 151,
      "outputs": []
    },
    {
      "cell_type": "code",
      "source": [
        "MODEL_NAME = 'LSTM'\n",
        "logs[MODEL_NAME] = model.fit(\n",
        "    train_tf,validation_data=val_tf,\n",
        "    epochs=0,\n",
        "   callbacks=callback_list(MODEL_NAME)\n",
        "    )"
      ],
      "metadata": {
        "id": "KHVtBxrFkVs7"
      },
      "execution_count": 152,
      "outputs": []
    },
    {
      "cell_type": "markdown",
      "source": [
        "### Tensorboard"
      ],
      "metadata": {
        "id": "fVcYuylVkQ1m"
      }
    },
    {
      "cell_type": "code",
      "source": [
        "\n",
        "model.evaluate(test_tf)"
      ],
      "metadata": {
        "colab": {
          "base_uri": "https://localhost:8080/"
        },
        "id": "hx0U3_73Zmap",
        "outputId": "59e6b9db-67f4-4ab4-ff57-d4d9c64bba55"
      },
      "execution_count": 153,
      "outputs": [
        {
          "output_type": "stream",
          "name": "stdout",
          "text": [
            "542/542 [==============================] - 9s 7ms/step - loss: 0.6840 - accuracy: 0.0173\n"
          ]
        },
        {
          "output_type": "execute_result",
          "data": {
            "text/plain": [
              "[0.6839852929115295, 0.017306027933955193]"
            ]
          },
          "metadata": {},
          "execution_count": 153
        }
      ]
    },
    {
      "cell_type": "markdown",
      "source": [],
      "metadata": {
        "id": "GGd6uxNCbQN6"
      }
    },
    {
      "cell_type": "code",
      "source": [
        "i=0\n",
        "text=test[\"text\"][i]\n",
        "print(\"target:\"+str(test[\"index_label\"][i]))\n",
        "model.predict([text])"
      ],
      "metadata": {
        "colab": {
          "base_uri": "https://localhost:8080/"
        },
        "id": "KQHi5g95eZ0A",
        "outputId": "2bf1ceac-0f99-4b2f-c3db-0e97bd05dd29"
      },
      "execution_count": 154,
      "outputs": [
        {
          "output_type": "stream",
          "name": "stdout",
          "text": [
            "target:27\n"
          ]
        },
        {
          "output_type": "stream",
          "name": "stderr",
          "text": [
            "WARNING:tensorflow:6 out of the last 11 calls to <function Model.make_predict_function.<locals>.predict_function at 0x7f81fe74cd30> triggered tf.function retracing. Tracing is expensive and the excessive number of tracings could be due to (1) creating @tf.function repeatedly in a loop, (2) passing tensors with different shapes, (3) passing Python objects instead of tensors. For (1), please define your @tf.function outside of the loop. For (2), @tf.function has reduce_retracing=True option that can avoid unnecessary retracing. For (3), please refer to https://www.tensorflow.org/guide/function#controlling_retracing and https://www.tensorflow.org/api_docs/python/tf/function for  more details.\n"
          ]
        },
        {
          "output_type": "stream",
          "name": "stdout",
          "text": [
            "1/1 [==============================] - 2s 2s/step\n"
          ]
        },
        {
          "output_type": "execute_result",
          "data": {
            "text/plain": [
              "array([[-0.00920261, -0.02495304, -0.04991765,  0.01164223, -0.00534186,\n",
              "        -0.00070493, -0.05901341, -0.03612159, -0.03321191, -0.00283397,\n",
              "        -0.01993748, -0.03909545, -0.00532539,  0.00165688, -0.01926857,\n",
              "         0.00829226, -0.03878627,  0.00684286, -0.06204404,  0.01501256,\n",
              "        -0.02933957, -0.01936478, -0.03480507, -0.0304697 , -0.00729257,\n",
              "        -0.01472383, -0.01613449, -0.03076391]], dtype=float32)"
            ]
          },
          "metadata": {},
          "execution_count": 154
        }
      ]
    },
    {
      "cell_type": "code",
      "source": [
        "# set seed for reproducibility\n",
        "tf.keras.utils.set_random_seed(SEED)\n",
        "\n",
        "# TODO complete the call bellow\n",
        "model2 = tf.keras.Sequential([\n",
        "    encoder,\n",
        "    embedding,\n",
        "    # TODO set the LSTM layer to return sequences\n",
        "    tf.keras.layers.LSTM(64,return_sequences=True),\n",
        "    # TODO add another Bidirectional LSTM layer with 32 units\n",
        "    tf.keras.layers.Bidirectional(tf.keras.layers.LSTM(32)),\n",
        "    tf.keras.layers.Dense(28)\n",
        "])\n",
        "\n",
        "\n",
        "model.summary()\n",
        "\n",
        "model2.compile(loss=tf.keras.losses.BinaryCrossentropy(\n",
        "    from_logits=True\n",
        "))"
      ],
      "metadata": {
        "colab": {
          "base_uri": "https://localhost:8080/"
        },
        "id": "uxWJvftEgqb7",
        "outputId": "3134c507-ceb0-483d-c221-acab54b2fb64"
      },
      "execution_count": 155,
      "outputs": [
        {
          "output_type": "stream",
          "name": "stdout",
          "text": [
            "Model: \"sequential_18\"\n",
            "_________________________________________________________________\n",
            " Layer (type)                Output Shape              Param #   \n",
            "=================================================================\n",
            " text_vectorization_2 (TextV  (None, None)             0         \n",
            " ectorization)                                                   \n",
            "                                                                 \n",
            " embedding_1 (Embedding)     (None, None, 64)          64000     \n",
            "                                                                 \n",
            " bidirectional_22 (Bidirecti  (None, 128)              66048     \n",
            " onal)                                                           \n",
            "                                                                 \n",
            " dense_32 (Dense)            (None, 28)                3612      \n",
            "                                                                 \n",
            "=================================================================\n",
            "Total params: 133,660\n",
            "Trainable params: 133,660\n",
            "Non-trainable params: 0\n",
            "_________________________________________________________________\n"
          ]
        }
      ]
    },
    {
      "cell_type": "code",
      "source": [
        "\n",
        "text='You are amazing'\n",
        "model.predict([text])"
      ],
      "metadata": {
        "colab": {
          "base_uri": "https://localhost:8080/"
        },
        "id": "gAHZAPEjoc8G",
        "outputId": "9dcc6d48-78ae-4ec4-f9d4-d2dadf092da4"
      },
      "execution_count": 157,
      "outputs": [
        {
          "output_type": "stream",
          "name": "stdout",
          "text": [
            "1/1 [==============================] - 0s 30ms/step\n"
          ]
        },
        {
          "output_type": "execute_result",
          "data": {
            "text/plain": [
              "array([[ 0.01289824, -0.01235825, -0.00885959, -0.00882226, -0.0066576 ,\n",
              "         0.01070224, -0.00435029,  0.00375921,  0.00450461,  0.01070699,\n",
              "         0.00405362, -0.00524585, -0.01463099, -0.00772475, -0.00803191,\n",
              "         0.00471374, -0.0167435 , -0.02289946, -0.00340101, -0.00529577,\n",
              "        -0.0041251 , -0.00791458,  0.00505782, -0.00865785, -0.00485624,\n",
              "        -0.00906753,  0.0011027 , -0.00951703]], dtype=float32)"
            ]
          },
          "metadata": {},
          "execution_count": 157
        }
      ]
    },
    {
      "cell_type": "markdown",
      "source": [
        "#MODEL MNIST"
      ],
      "metadata": {
        "id": "SfmJ_3KmfJK0"
      }
    },
    {
      "cell_type": "code",
      "source": [
        "model.add(keras.layers.Dense(300, activation=\"relu\"))\n",
        "     "
      ],
      "metadata": {
        "id": "HqkYXvXlfEPG"
      },
      "execution_count": null,
      "outputs": []
    }
  ]
}